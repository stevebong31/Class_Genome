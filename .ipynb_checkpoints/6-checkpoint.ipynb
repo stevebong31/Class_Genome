{
 "cells": [
  {
   "cell_type": "markdown",
   "metadata": {},
   "source": [
    "# 6. 자유자재로 데이터 가공하기\n",
    "![ex_screenshot1](./img/11.PNG)"
   ]
  },
  {
   "cell_type": "markdown",
   "metadata": {},
   "source": [
    "## 06-1. 데이터 전처리 - 원하는 형태로 데이터 가공하기\n",
    "### 데이터 전처리(Preprocessing) - dplyr 패키지\n",
    "\n",
    "함수 | 기능\n",
    "-------- | --------\n",
    "filter() |  행 추출\n",
    "select() | 열(변수) 추출\n",
    "arrange() | 정렬\n",
    "mutate() | 변수 추가\n",
    "summarise() | 통계치 산출\n",
    "group_by() | 집단별로 나누기\n",
    "left_join() | 데이터 합치기(열)\n",
    "bind_rows() | 데이터 합치기(행)"
   ]
  },
  {
   "cell_type": "markdown",
   "metadata": {},
   "source": [
    "## 06-2. 조건에 맞는 데이터만 추출하기\n",
    "![ex_screenshot1](./img/12.PNG)"
   ]
  },
  {
   "cell_type": "markdown",
   "metadata": {},
   "source": [
    "### dplyr 패키지 로드 & 데이터 준비"
   ]
  },
  {
   "cell_type": "code",
   "execution_count": 133,
   "metadata": {},
   "outputs": [
    {
     "data": {
      "text/html": [
       "<table>\n",
       "<thead><tr><th scope=col>id</th><th scope=col>class</th><th scope=col>math</th><th scope=col>english</th><th scope=col>science</th></tr></thead>\n",
       "<tbody>\n",
       "\t<tr><td> 1</td><td>1 </td><td>50</td><td>98</td><td>50</td></tr>\n",
       "\t<tr><td> 2</td><td>1 </td><td>60</td><td>97</td><td>60</td></tr>\n",
       "\t<tr><td> 3</td><td>1 </td><td>45</td><td>86</td><td>78</td></tr>\n",
       "\t<tr><td> 4</td><td>1 </td><td>30</td><td>98</td><td>58</td></tr>\n",
       "\t<tr><td> 5</td><td>2 </td><td>25</td><td>80</td><td>65</td></tr>\n",
       "\t<tr><td> 6</td><td>2 </td><td>50</td><td>89</td><td>98</td></tr>\n",
       "\t<tr><td> 7</td><td>2 </td><td>80</td><td>90</td><td>45</td></tr>\n",
       "\t<tr><td> 8</td><td>2 </td><td>90</td><td>78</td><td>25</td></tr>\n",
       "\t<tr><td> 9</td><td>3 </td><td>20</td><td>98</td><td>15</td></tr>\n",
       "\t<tr><td>10</td><td>3 </td><td>50</td><td>98</td><td>45</td></tr>\n",
       "\t<tr><td>11</td><td>3 </td><td>65</td><td>65</td><td>65</td></tr>\n",
       "\t<tr><td>12</td><td>3 </td><td>45</td><td>85</td><td>32</td></tr>\n",
       "\t<tr><td>13</td><td>4 </td><td>46</td><td>98</td><td>65</td></tr>\n",
       "\t<tr><td>14</td><td>4 </td><td>48</td><td>87</td><td>12</td></tr>\n",
       "\t<tr><td>15</td><td>4 </td><td>75</td><td>56</td><td>78</td></tr>\n",
       "\t<tr><td>16</td><td>4 </td><td>58</td><td>98</td><td>65</td></tr>\n",
       "\t<tr><td>17</td><td>5 </td><td>65</td><td>68</td><td>98</td></tr>\n",
       "\t<tr><td>18</td><td>5 </td><td>80</td><td>78</td><td>90</td></tr>\n",
       "\t<tr><td>19</td><td>5 </td><td>89</td><td>68</td><td>87</td></tr>\n",
       "\t<tr><td>20</td><td>5 </td><td>78</td><td>83</td><td>58</td></tr>\n",
       "</tbody>\n",
       "</table>\n"
      ],
      "text/latex": [
       "\\begin{tabular}{r|lllll}\n",
       " id & class & math & english & science\\\\\n",
       "\\hline\n",
       "\t  1 & 1  & 50 & 98 & 50\\\\\n",
       "\t  2 & 1  & 60 & 97 & 60\\\\\n",
       "\t  3 & 1  & 45 & 86 & 78\\\\\n",
       "\t  4 & 1  & 30 & 98 & 58\\\\\n",
       "\t  5 & 2  & 25 & 80 & 65\\\\\n",
       "\t  6 & 2  & 50 & 89 & 98\\\\\n",
       "\t  7 & 2  & 80 & 90 & 45\\\\\n",
       "\t  8 & 2  & 90 & 78 & 25\\\\\n",
       "\t  9 & 3  & 20 & 98 & 15\\\\\n",
       "\t 10 & 3  & 50 & 98 & 45\\\\\n",
       "\t 11 & 3  & 65 & 65 & 65\\\\\n",
       "\t 12 & 3  & 45 & 85 & 32\\\\\n",
       "\t 13 & 4  & 46 & 98 & 65\\\\\n",
       "\t 14 & 4  & 48 & 87 & 12\\\\\n",
       "\t 15 & 4  & 75 & 56 & 78\\\\\n",
       "\t 16 & 4  & 58 & 98 & 65\\\\\n",
       "\t 17 & 5  & 65 & 68 & 98\\\\\n",
       "\t 18 & 5  & 80 & 78 & 90\\\\\n",
       "\t 19 & 5  & 89 & 68 & 87\\\\\n",
       "\t 20 & 5  & 78 & 83 & 58\\\\\n",
       "\\end{tabular}\n"
      ],
      "text/markdown": [
       "\n",
       "id | class | math | english | science | \n",
       "|---|---|---|---|---|---|---|---|---|---|---|---|---|---|---|---|---|---|---|---|\n",
       "|  1 | 1  | 50 | 98 | 50 | \n",
       "|  2 | 1  | 60 | 97 | 60 | \n",
       "|  3 | 1  | 45 | 86 | 78 | \n",
       "|  4 | 1  | 30 | 98 | 58 | \n",
       "|  5 | 2  | 25 | 80 | 65 | \n",
       "|  6 | 2  | 50 | 89 | 98 | \n",
       "|  7 | 2  | 80 | 90 | 45 | \n",
       "|  8 | 2  | 90 | 78 | 25 | \n",
       "|  9 | 3  | 20 | 98 | 15 | \n",
       "| 10 | 3  | 50 | 98 | 45 | \n",
       "| 11 | 3  | 65 | 65 | 65 | \n",
       "| 12 | 3  | 45 | 85 | 32 | \n",
       "| 13 | 4  | 46 | 98 | 65 | \n",
       "| 14 | 4  | 48 | 87 | 12 | \n",
       "| 15 | 4  | 75 | 56 | 78 | \n",
       "| 16 | 4  | 58 | 98 | 65 | \n",
       "| 17 | 5  | 65 | 68 | 98 | \n",
       "| 18 | 5  | 80 | 78 | 90 | \n",
       "| 19 | 5  | 89 | 68 | 87 | \n",
       "| 20 | 5  | 78 | 83 | 58 | \n",
       "\n",
       "\n"
      ],
      "text/plain": [
       "   id class math english science\n",
       "1   1 1     50   98      50     \n",
       "2   2 1     60   97      60     \n",
       "3   3 1     45   86      78     \n",
       "4   4 1     30   98      58     \n",
       "5   5 2     25   80      65     \n",
       "6   6 2     50   89      98     \n",
       "7   7 2     80   90      45     \n",
       "8   8 2     90   78      25     \n",
       "9   9 3     20   98      15     \n",
       "10 10 3     50   98      45     \n",
       "11 11 3     65   65      65     \n",
       "12 12 3     45   85      32     \n",
       "13 13 4     46   98      65     \n",
       "14 14 4     48   87      12     \n",
       "15 15 4     75   56      78     \n",
       "16 16 4     58   98      65     \n",
       "17 17 5     65   68      98     \n",
       "18 18 5     80   78      90     \n",
       "19 19 5     89   68      87     \n",
       "20 20 5     78   83      58     "
      ]
     },
     "metadata": {},
     "output_type": "display_data"
    }
   ],
   "source": [
    "library(dplyr)\n",
    "exam <- read.csv(\"data/csv_exam.csv\")\n",
    "exam"
   ]
  },
  {
   "cell_type": "code",
   "execution_count": 134,
   "metadata": {},
   "outputs": [
    {
     "data": {
      "text/html": [
       "<table>\n",
       "<thead><tr><th scope=col>id</th><th scope=col>class</th><th scope=col>math</th><th scope=col>english</th><th scope=col>science</th></tr></thead>\n",
       "<tbody>\n",
       "\t<tr><td>1 </td><td>1 </td><td>50</td><td>98</td><td>50</td></tr>\n",
       "\t<tr><td>2 </td><td>1 </td><td>60</td><td>97</td><td>60</td></tr>\n",
       "\t<tr><td>3 </td><td>1 </td><td>45</td><td>86</td><td>78</td></tr>\n",
       "\t<tr><td>4 </td><td>1 </td><td>30</td><td>98</td><td>58</td></tr>\n",
       "</tbody>\n",
       "</table>\n"
      ],
      "text/latex": [
       "\\begin{tabular}{r|lllll}\n",
       " id & class & math & english & science\\\\\n",
       "\\hline\n",
       "\t 1  & 1  & 50 & 98 & 50\\\\\n",
       "\t 2  & 1  & 60 & 97 & 60\\\\\n",
       "\t 3  & 1  & 45 & 86 & 78\\\\\n",
       "\t 4  & 1  & 30 & 98 & 58\\\\\n",
       "\\end{tabular}\n"
      ],
      "text/markdown": [
       "\n",
       "id | class | math | english | science | \n",
       "|---|---|---|---|\n",
       "| 1  | 1  | 50 | 98 | 50 | \n",
       "| 2  | 1  | 60 | 97 | 60 | \n",
       "| 3  | 1  | 45 | 86 | 78 | \n",
       "| 4  | 1  | 30 | 98 | 58 | \n",
       "\n",
       "\n"
      ],
      "text/plain": [
       "  id class math english science\n",
       "1 1  1     50   98      50     \n",
       "2 2  1     60   97      60     \n",
       "3 3  1     45   86      78     \n",
       "4 4  1     30   98      58     "
      ]
     },
     "metadata": {},
     "output_type": "display_data"
    }
   ],
   "source": [
    "# exam 에서 class 가 1 인 경우만 추출하여 출력\n",
    "exam %>% filter(class == 1)  # chain operator "
   ]
  },
  {
   "cell_type": "markdown",
   "metadata": {},
   "source": [
    "##### [참고] 단축키 [Ctrl+Shit+M]으로 %>% 기호 입력"
   ]
  },
  {
   "cell_type": "code",
   "execution_count": 135,
   "metadata": {},
   "outputs": [
    {
     "data": {
      "text/html": [
       "<table>\n",
       "<thead><tr><th scope=col>id</th><th scope=col>class</th><th scope=col>math</th><th scope=col>english</th><th scope=col>science</th></tr></thead>\n",
       "<tbody>\n",
       "\t<tr><td>5 </td><td>2 </td><td>25</td><td>80</td><td>65</td></tr>\n",
       "\t<tr><td>6 </td><td>2 </td><td>50</td><td>89</td><td>98</td></tr>\n",
       "\t<tr><td>7 </td><td>2 </td><td>80</td><td>90</td><td>45</td></tr>\n",
       "\t<tr><td>8 </td><td>2 </td><td>90</td><td>78</td><td>25</td></tr>\n",
       "</tbody>\n",
       "</table>\n"
      ],
      "text/latex": [
       "\\begin{tabular}{r|lllll}\n",
       " id & class & math & english & science\\\\\n",
       "\\hline\n",
       "\t 5  & 2  & 25 & 80 & 65\\\\\n",
       "\t 6  & 2  & 50 & 89 & 98\\\\\n",
       "\t 7  & 2  & 80 & 90 & 45\\\\\n",
       "\t 8  & 2  & 90 & 78 & 25\\\\\n",
       "\\end{tabular}\n"
      ],
      "text/markdown": [
       "\n",
       "id | class | math | english | science | \n",
       "|---|---|---|---|\n",
       "| 5  | 2  | 25 | 80 | 65 | \n",
       "| 6  | 2  | 50 | 89 | 98 | \n",
       "| 7  | 2  | 80 | 90 | 45 | \n",
       "| 8  | 2  | 90 | 78 | 25 | \n",
       "\n",
       "\n"
      ],
      "text/plain": [
       "  id class math english science\n",
       "1 5  2     25   80      65     \n",
       "2 6  2     50   89      98     \n",
       "3 7  2     80   90      45     \n",
       "4 8  2     90   78      25     "
      ]
     },
     "metadata": {},
     "output_type": "display_data"
    }
   ],
   "source": [
    "# 2 반인 경우만 추출\n",
    "exam %>% filter(class == 2)"
   ]
  },
  {
   "cell_type": "code",
   "execution_count": 136,
   "metadata": {},
   "outputs": [
    {
     "data": {
      "text/html": [
       "<table>\n",
       "<thead><tr><th scope=col>id</th><th scope=col>class</th><th scope=col>math</th><th scope=col>english</th><th scope=col>science</th></tr></thead>\n",
       "<tbody>\n",
       "\t<tr><td> 5</td><td>2 </td><td>25</td><td>80</td><td>65</td></tr>\n",
       "\t<tr><td> 6</td><td>2 </td><td>50</td><td>89</td><td>98</td></tr>\n",
       "\t<tr><td> 7</td><td>2 </td><td>80</td><td>90</td><td>45</td></tr>\n",
       "\t<tr><td> 8</td><td>2 </td><td>90</td><td>78</td><td>25</td></tr>\n",
       "\t<tr><td> 9</td><td>3 </td><td>20</td><td>98</td><td>15</td></tr>\n",
       "\t<tr><td>10</td><td>3 </td><td>50</td><td>98</td><td>45</td></tr>\n",
       "\t<tr><td>11</td><td>3 </td><td>65</td><td>65</td><td>65</td></tr>\n",
       "\t<tr><td>12</td><td>3 </td><td>45</td><td>85</td><td>32</td></tr>\n",
       "\t<tr><td>13</td><td>4 </td><td>46</td><td>98</td><td>65</td></tr>\n",
       "\t<tr><td>14</td><td>4 </td><td>48</td><td>87</td><td>12</td></tr>\n",
       "\t<tr><td>15</td><td>4 </td><td>75</td><td>56</td><td>78</td></tr>\n",
       "\t<tr><td>16</td><td>4 </td><td>58</td><td>98</td><td>65</td></tr>\n",
       "\t<tr><td>17</td><td>5 </td><td>65</td><td>68</td><td>98</td></tr>\n",
       "\t<tr><td>18</td><td>5 </td><td>80</td><td>78</td><td>90</td></tr>\n",
       "\t<tr><td>19</td><td>5 </td><td>89</td><td>68</td><td>87</td></tr>\n",
       "\t<tr><td>20</td><td>5 </td><td>78</td><td>83</td><td>58</td></tr>\n",
       "</tbody>\n",
       "</table>\n"
      ],
      "text/latex": [
       "\\begin{tabular}{r|lllll}\n",
       " id & class & math & english & science\\\\\n",
       "\\hline\n",
       "\t  5 & 2  & 25 & 80 & 65\\\\\n",
       "\t  6 & 2  & 50 & 89 & 98\\\\\n",
       "\t  7 & 2  & 80 & 90 & 45\\\\\n",
       "\t  8 & 2  & 90 & 78 & 25\\\\\n",
       "\t  9 & 3  & 20 & 98 & 15\\\\\n",
       "\t 10 & 3  & 50 & 98 & 45\\\\\n",
       "\t 11 & 3  & 65 & 65 & 65\\\\\n",
       "\t 12 & 3  & 45 & 85 & 32\\\\\n",
       "\t 13 & 4  & 46 & 98 & 65\\\\\n",
       "\t 14 & 4  & 48 & 87 & 12\\\\\n",
       "\t 15 & 4  & 75 & 56 & 78\\\\\n",
       "\t 16 & 4  & 58 & 98 & 65\\\\\n",
       "\t 17 & 5  & 65 & 68 & 98\\\\\n",
       "\t 18 & 5  & 80 & 78 & 90\\\\\n",
       "\t 19 & 5  & 89 & 68 & 87\\\\\n",
       "\t 20 & 5  & 78 & 83 & 58\\\\\n",
       "\\end{tabular}\n"
      ],
      "text/markdown": [
       "\n",
       "id | class | math | english | science | \n",
       "|---|---|---|---|---|---|---|---|---|---|---|---|---|---|---|---|\n",
       "|  5 | 2  | 25 | 80 | 65 | \n",
       "|  6 | 2  | 50 | 89 | 98 | \n",
       "|  7 | 2  | 80 | 90 | 45 | \n",
       "|  8 | 2  | 90 | 78 | 25 | \n",
       "|  9 | 3  | 20 | 98 | 15 | \n",
       "| 10 | 3  | 50 | 98 | 45 | \n",
       "| 11 | 3  | 65 | 65 | 65 | \n",
       "| 12 | 3  | 45 | 85 | 32 | \n",
       "| 13 | 4  | 46 | 98 | 65 | \n",
       "| 14 | 4  | 48 | 87 | 12 | \n",
       "| 15 | 4  | 75 | 56 | 78 | \n",
       "| 16 | 4  | 58 | 98 | 65 | \n",
       "| 17 | 5  | 65 | 68 | 98 | \n",
       "| 18 | 5  | 80 | 78 | 90 | \n",
       "| 19 | 5  | 89 | 68 | 87 | \n",
       "| 20 | 5  | 78 | 83 | 58 | \n",
       "\n",
       "\n"
      ],
      "text/plain": [
       "   id class math english science\n",
       "1   5 2     25   80      65     \n",
       "2   6 2     50   89      98     \n",
       "3   7 2     80   90      45     \n",
       "4   8 2     90   78      25     \n",
       "5   9 3     20   98      15     \n",
       "6  10 3     50   98      45     \n",
       "7  11 3     65   65      65     \n",
       "8  12 3     45   85      32     \n",
       "9  13 4     46   98      65     \n",
       "10 14 4     48   87      12     \n",
       "11 15 4     75   56      78     \n",
       "12 16 4     58   98      65     \n",
       "13 17 5     65   68      98     \n",
       "14 18 5     80   78      90     \n",
       "15 19 5     89   68      87     \n",
       "16 20 5     78   83      58     "
      ]
     },
     "metadata": {},
     "output_type": "display_data"
    }
   ],
   "source": [
    "# 1 반이 아닌 경우\n",
    "exam %>% filter(class != 1)"
   ]
  },
  {
   "cell_type": "code",
   "execution_count": 137,
   "metadata": {},
   "outputs": [
    {
     "data": {
      "text/html": [
       "<table>\n",
       "<thead><tr><th scope=col>id</th><th scope=col>class</th><th scope=col>math</th><th scope=col>english</th><th scope=col>science</th></tr></thead>\n",
       "<tbody>\n",
       "\t<tr><td> 1</td><td>1 </td><td>50</td><td>98</td><td>50</td></tr>\n",
       "\t<tr><td> 2</td><td>1 </td><td>60</td><td>97</td><td>60</td></tr>\n",
       "\t<tr><td> 3</td><td>1 </td><td>45</td><td>86</td><td>78</td></tr>\n",
       "\t<tr><td> 4</td><td>1 </td><td>30</td><td>98</td><td>58</td></tr>\n",
       "\t<tr><td> 5</td><td>2 </td><td>25</td><td>80</td><td>65</td></tr>\n",
       "\t<tr><td> 6</td><td>2 </td><td>50</td><td>89</td><td>98</td></tr>\n",
       "\t<tr><td> 7</td><td>2 </td><td>80</td><td>90</td><td>45</td></tr>\n",
       "\t<tr><td> 8</td><td>2 </td><td>90</td><td>78</td><td>25</td></tr>\n",
       "\t<tr><td>13</td><td>4 </td><td>46</td><td>98</td><td>65</td></tr>\n",
       "\t<tr><td>14</td><td>4 </td><td>48</td><td>87</td><td>12</td></tr>\n",
       "\t<tr><td>15</td><td>4 </td><td>75</td><td>56</td><td>78</td></tr>\n",
       "\t<tr><td>16</td><td>4 </td><td>58</td><td>98</td><td>65</td></tr>\n",
       "\t<tr><td>17</td><td>5 </td><td>65</td><td>68</td><td>98</td></tr>\n",
       "\t<tr><td>18</td><td>5 </td><td>80</td><td>78</td><td>90</td></tr>\n",
       "\t<tr><td>19</td><td>5 </td><td>89</td><td>68</td><td>87</td></tr>\n",
       "\t<tr><td>20</td><td>5 </td><td>78</td><td>83</td><td>58</td></tr>\n",
       "</tbody>\n",
       "</table>\n"
      ],
      "text/latex": [
       "\\begin{tabular}{r|lllll}\n",
       " id & class & math & english & science\\\\\n",
       "\\hline\n",
       "\t  1 & 1  & 50 & 98 & 50\\\\\n",
       "\t  2 & 1  & 60 & 97 & 60\\\\\n",
       "\t  3 & 1  & 45 & 86 & 78\\\\\n",
       "\t  4 & 1  & 30 & 98 & 58\\\\\n",
       "\t  5 & 2  & 25 & 80 & 65\\\\\n",
       "\t  6 & 2  & 50 & 89 & 98\\\\\n",
       "\t  7 & 2  & 80 & 90 & 45\\\\\n",
       "\t  8 & 2  & 90 & 78 & 25\\\\\n",
       "\t 13 & 4  & 46 & 98 & 65\\\\\n",
       "\t 14 & 4  & 48 & 87 & 12\\\\\n",
       "\t 15 & 4  & 75 & 56 & 78\\\\\n",
       "\t 16 & 4  & 58 & 98 & 65\\\\\n",
       "\t 17 & 5  & 65 & 68 & 98\\\\\n",
       "\t 18 & 5  & 80 & 78 & 90\\\\\n",
       "\t 19 & 5  & 89 & 68 & 87\\\\\n",
       "\t 20 & 5  & 78 & 83 & 58\\\\\n",
       "\\end{tabular}\n"
      ],
      "text/markdown": [
       "\n",
       "id | class | math | english | science | \n",
       "|---|---|---|---|---|---|---|---|---|---|---|---|---|---|---|---|\n",
       "|  1 | 1  | 50 | 98 | 50 | \n",
       "|  2 | 1  | 60 | 97 | 60 | \n",
       "|  3 | 1  | 45 | 86 | 78 | \n",
       "|  4 | 1  | 30 | 98 | 58 | \n",
       "|  5 | 2  | 25 | 80 | 65 | \n",
       "|  6 | 2  | 50 | 89 | 98 | \n",
       "|  7 | 2  | 80 | 90 | 45 | \n",
       "|  8 | 2  | 90 | 78 | 25 | \n",
       "| 13 | 4  | 46 | 98 | 65 | \n",
       "| 14 | 4  | 48 | 87 | 12 | \n",
       "| 15 | 4  | 75 | 56 | 78 | \n",
       "| 16 | 4  | 58 | 98 | 65 | \n",
       "| 17 | 5  | 65 | 68 | 98 | \n",
       "| 18 | 5  | 80 | 78 | 90 | \n",
       "| 19 | 5  | 89 | 68 | 87 | \n",
       "| 20 | 5  | 78 | 83 | 58 | \n",
       "\n",
       "\n"
      ],
      "text/plain": [
       "   id class math english science\n",
       "1   1 1     50   98      50     \n",
       "2   2 1     60   97      60     \n",
       "3   3 1     45   86      78     \n",
       "4   4 1     30   98      58     \n",
       "5   5 2     25   80      65     \n",
       "6   6 2     50   89      98     \n",
       "7   7 2     80   90      45     \n",
       "8   8 2     90   78      25     \n",
       "9  13 4     46   98      65     \n",
       "10 14 4     48   87      12     \n",
       "11 15 4     75   56      78     \n",
       "12 16 4     58   98      65     \n",
       "13 17 5     65   68      98     \n",
       "14 18 5     80   78      90     \n",
       "15 19 5     89   68      87     \n",
       "16 20 5     78   83      58     "
      ]
     },
     "metadata": {},
     "output_type": "display_data"
    }
   ],
   "source": [
    "# 3 반이 아닌 경우\n",
    "exam %>% filter(class != 3)"
   ]
  },
  {
   "cell_type": "markdown",
   "metadata": {},
   "source": [
    "### 초과, 미만, 이상, 이하 조건 걸기\n"
   ]
  },
  {
   "cell_type": "code",
   "execution_count": 138,
   "metadata": {},
   "outputs": [
    {
     "data": {
      "text/html": [
       "<table>\n",
       "<thead><tr><th scope=col>id</th><th scope=col>class</th><th scope=col>math</th><th scope=col>english</th><th scope=col>science</th></tr></thead>\n",
       "<tbody>\n",
       "\t<tr><td> 2</td><td>1 </td><td>60</td><td>97</td><td>60</td></tr>\n",
       "\t<tr><td> 7</td><td>2 </td><td>80</td><td>90</td><td>45</td></tr>\n",
       "\t<tr><td> 8</td><td>2 </td><td>90</td><td>78</td><td>25</td></tr>\n",
       "\t<tr><td>11</td><td>3 </td><td>65</td><td>65</td><td>65</td></tr>\n",
       "\t<tr><td>15</td><td>4 </td><td>75</td><td>56</td><td>78</td></tr>\n",
       "\t<tr><td>16</td><td>4 </td><td>58</td><td>98</td><td>65</td></tr>\n",
       "\t<tr><td>17</td><td>5 </td><td>65</td><td>68</td><td>98</td></tr>\n",
       "\t<tr><td>18</td><td>5 </td><td>80</td><td>78</td><td>90</td></tr>\n",
       "\t<tr><td>19</td><td>5 </td><td>89</td><td>68</td><td>87</td></tr>\n",
       "\t<tr><td>20</td><td>5 </td><td>78</td><td>83</td><td>58</td></tr>\n",
       "</tbody>\n",
       "</table>\n"
      ],
      "text/latex": [
       "\\begin{tabular}{r|lllll}\n",
       " id & class & math & english & science\\\\\n",
       "\\hline\n",
       "\t  2 & 1  & 60 & 97 & 60\\\\\n",
       "\t  7 & 2  & 80 & 90 & 45\\\\\n",
       "\t  8 & 2  & 90 & 78 & 25\\\\\n",
       "\t 11 & 3  & 65 & 65 & 65\\\\\n",
       "\t 15 & 4  & 75 & 56 & 78\\\\\n",
       "\t 16 & 4  & 58 & 98 & 65\\\\\n",
       "\t 17 & 5  & 65 & 68 & 98\\\\\n",
       "\t 18 & 5  & 80 & 78 & 90\\\\\n",
       "\t 19 & 5  & 89 & 68 & 87\\\\\n",
       "\t 20 & 5  & 78 & 83 & 58\\\\\n",
       "\\end{tabular}\n"
      ],
      "text/markdown": [
       "\n",
       "id | class | math | english | science | \n",
       "|---|---|---|---|---|---|---|---|---|---|\n",
       "|  2 | 1  | 60 | 97 | 60 | \n",
       "|  7 | 2  | 80 | 90 | 45 | \n",
       "|  8 | 2  | 90 | 78 | 25 | \n",
       "| 11 | 3  | 65 | 65 | 65 | \n",
       "| 15 | 4  | 75 | 56 | 78 | \n",
       "| 16 | 4  | 58 | 98 | 65 | \n",
       "| 17 | 5  | 65 | 68 | 98 | \n",
       "| 18 | 5  | 80 | 78 | 90 | \n",
       "| 19 | 5  | 89 | 68 | 87 | \n",
       "| 20 | 5  | 78 | 83 | 58 | \n",
       "\n",
       "\n"
      ],
      "text/plain": [
       "   id class math english science\n",
       "1   2 1     60   97      60     \n",
       "2   7 2     80   90      45     \n",
       "3   8 2     90   78      25     \n",
       "4  11 3     65   65      65     \n",
       "5  15 4     75   56      78     \n",
       "6  16 4     58   98      65     \n",
       "7  17 5     65   68      98     \n",
       "8  18 5     80   78      90     \n",
       "9  19 5     89   68      87     \n",
       "10 20 5     78   83      58     "
      ]
     },
     "metadata": {},
     "output_type": "display_data"
    }
   ],
   "source": [
    "# 수학 점수가 50 점을 초과한 경우\n",
    "exam %>% filter(math > 50)"
   ]
  },
  {
   "cell_type": "code",
   "execution_count": 139,
   "metadata": {},
   "outputs": [
    {
     "data": {
      "text/html": [
       "<table>\n",
       "<thead><tr><th scope=col>id</th><th scope=col>class</th><th scope=col>math</th><th scope=col>english</th><th scope=col>science</th></tr></thead>\n",
       "<tbody>\n",
       "\t<tr><td> 3</td><td>1 </td><td>45</td><td>86</td><td>78</td></tr>\n",
       "\t<tr><td> 4</td><td>1 </td><td>30</td><td>98</td><td>58</td></tr>\n",
       "\t<tr><td> 5</td><td>2 </td><td>25</td><td>80</td><td>65</td></tr>\n",
       "\t<tr><td> 9</td><td>3 </td><td>20</td><td>98</td><td>15</td></tr>\n",
       "\t<tr><td>12</td><td>3 </td><td>45</td><td>85</td><td>32</td></tr>\n",
       "\t<tr><td>13</td><td>4 </td><td>46</td><td>98</td><td>65</td></tr>\n",
       "\t<tr><td>14</td><td>4 </td><td>48</td><td>87</td><td>12</td></tr>\n",
       "</tbody>\n",
       "</table>\n"
      ],
      "text/latex": [
       "\\begin{tabular}{r|lllll}\n",
       " id & class & math & english & science\\\\\n",
       "\\hline\n",
       "\t  3 & 1  & 45 & 86 & 78\\\\\n",
       "\t  4 & 1  & 30 & 98 & 58\\\\\n",
       "\t  5 & 2  & 25 & 80 & 65\\\\\n",
       "\t  9 & 3  & 20 & 98 & 15\\\\\n",
       "\t 12 & 3  & 45 & 85 & 32\\\\\n",
       "\t 13 & 4  & 46 & 98 & 65\\\\\n",
       "\t 14 & 4  & 48 & 87 & 12\\\\\n",
       "\\end{tabular}\n"
      ],
      "text/markdown": [
       "\n",
       "id | class | math | english | science | \n",
       "|---|---|---|---|---|---|---|\n",
       "|  3 | 1  | 45 | 86 | 78 | \n",
       "|  4 | 1  | 30 | 98 | 58 | \n",
       "|  5 | 2  | 25 | 80 | 65 | \n",
       "|  9 | 3  | 20 | 98 | 15 | \n",
       "| 12 | 3  | 45 | 85 | 32 | \n",
       "| 13 | 4  | 46 | 98 | 65 | \n",
       "| 14 | 4  | 48 | 87 | 12 | \n",
       "\n",
       "\n"
      ],
      "text/plain": [
       "  id class math english science\n",
       "1  3 1     45   86      78     \n",
       "2  4 1     30   98      58     \n",
       "3  5 2     25   80      65     \n",
       "4  9 3     20   98      15     \n",
       "5 12 3     45   85      32     \n",
       "6 13 4     46   98      65     \n",
       "7 14 4     48   87      12     "
      ]
     },
     "metadata": {},
     "output_type": "display_data"
    }
   ],
   "source": [
    "# 수학 점수가 50 점 미만인 경우\n",
    "exam %>% filter(math < 50)"
   ]
  },
  {
   "cell_type": "code",
   "execution_count": 140,
   "metadata": {},
   "outputs": [
    {
     "data": {
      "text/html": [
       "<table>\n",
       "<thead><tr><th scope=col>id</th><th scope=col>class</th><th scope=col>math</th><th scope=col>english</th><th scope=col>science</th></tr></thead>\n",
       "<tbody>\n",
       "\t<tr><td> 1</td><td>1 </td><td>50</td><td>98</td><td>50</td></tr>\n",
       "\t<tr><td> 2</td><td>1 </td><td>60</td><td>97</td><td>60</td></tr>\n",
       "\t<tr><td> 3</td><td>1 </td><td>45</td><td>86</td><td>78</td></tr>\n",
       "\t<tr><td> 4</td><td>1 </td><td>30</td><td>98</td><td>58</td></tr>\n",
       "\t<tr><td> 5</td><td>2 </td><td>25</td><td>80</td><td>65</td></tr>\n",
       "\t<tr><td> 6</td><td>2 </td><td>50</td><td>89</td><td>98</td></tr>\n",
       "\t<tr><td> 7</td><td>2 </td><td>80</td><td>90</td><td>45</td></tr>\n",
       "\t<tr><td> 9</td><td>3 </td><td>20</td><td>98</td><td>15</td></tr>\n",
       "\t<tr><td>10</td><td>3 </td><td>50</td><td>98</td><td>45</td></tr>\n",
       "\t<tr><td>12</td><td>3 </td><td>45</td><td>85</td><td>32</td></tr>\n",
       "\t<tr><td>13</td><td>4 </td><td>46</td><td>98</td><td>65</td></tr>\n",
       "\t<tr><td>14</td><td>4 </td><td>48</td><td>87</td><td>12</td></tr>\n",
       "\t<tr><td>16</td><td>4 </td><td>58</td><td>98</td><td>65</td></tr>\n",
       "\t<tr><td>20</td><td>5 </td><td>78</td><td>83</td><td>58</td></tr>\n",
       "</tbody>\n",
       "</table>\n"
      ],
      "text/latex": [
       "\\begin{tabular}{r|lllll}\n",
       " id & class & math & english & science\\\\\n",
       "\\hline\n",
       "\t  1 & 1  & 50 & 98 & 50\\\\\n",
       "\t  2 & 1  & 60 & 97 & 60\\\\\n",
       "\t  3 & 1  & 45 & 86 & 78\\\\\n",
       "\t  4 & 1  & 30 & 98 & 58\\\\\n",
       "\t  5 & 2  & 25 & 80 & 65\\\\\n",
       "\t  6 & 2  & 50 & 89 & 98\\\\\n",
       "\t  7 & 2  & 80 & 90 & 45\\\\\n",
       "\t  9 & 3  & 20 & 98 & 15\\\\\n",
       "\t 10 & 3  & 50 & 98 & 45\\\\\n",
       "\t 12 & 3  & 45 & 85 & 32\\\\\n",
       "\t 13 & 4  & 46 & 98 & 65\\\\\n",
       "\t 14 & 4  & 48 & 87 & 12\\\\\n",
       "\t 16 & 4  & 58 & 98 & 65\\\\\n",
       "\t 20 & 5  & 78 & 83 & 58\\\\\n",
       "\\end{tabular}\n"
      ],
      "text/markdown": [
       "\n",
       "id | class | math | english | science | \n",
       "|---|---|---|---|---|---|---|---|---|---|---|---|---|---|\n",
       "|  1 | 1  | 50 | 98 | 50 | \n",
       "|  2 | 1  | 60 | 97 | 60 | \n",
       "|  3 | 1  | 45 | 86 | 78 | \n",
       "|  4 | 1  | 30 | 98 | 58 | \n",
       "|  5 | 2  | 25 | 80 | 65 | \n",
       "|  6 | 2  | 50 | 89 | 98 | \n",
       "|  7 | 2  | 80 | 90 | 45 | \n",
       "|  9 | 3  | 20 | 98 | 15 | \n",
       "| 10 | 3  | 50 | 98 | 45 | \n",
       "| 12 | 3  | 45 | 85 | 32 | \n",
       "| 13 | 4  | 46 | 98 | 65 | \n",
       "| 14 | 4  | 48 | 87 | 12 | \n",
       "| 16 | 4  | 58 | 98 | 65 | \n",
       "| 20 | 5  | 78 | 83 | 58 | \n",
       "\n",
       "\n"
      ],
      "text/plain": [
       "   id class math english science\n",
       "1   1 1     50   98      50     \n",
       "2   2 1     60   97      60     \n",
       "3   3 1     45   86      78     \n",
       "4   4 1     30   98      58     \n",
       "5   5 2     25   80      65     \n",
       "6   6 2     50   89      98     \n",
       "7   7 2     80   90      45     \n",
       "8   9 3     20   98      15     \n",
       "9  10 3     50   98      45     \n",
       "10 12 3     45   85      32     \n",
       "11 13 4     46   98      65     \n",
       "12 14 4     48   87      12     \n",
       "13 16 4     58   98      65     \n",
       "14 20 5     78   83      58     "
      ]
     },
     "metadata": {},
     "output_type": "display_data"
    }
   ],
   "source": [
    "# 영어점수가 80 점 이상인 경우\n",
    "exam %>% filter(english >= 80)"
   ]
  },
  {
   "cell_type": "code",
   "execution_count": 141,
   "metadata": {},
   "outputs": [
    {
     "data": {
      "text/html": [
       "<table>\n",
       "<thead><tr><th scope=col>id</th><th scope=col>class</th><th scope=col>math</th><th scope=col>english</th><th scope=col>science</th></tr></thead>\n",
       "<tbody>\n",
       "\t<tr><td> 5</td><td>2 </td><td>25</td><td>80</td><td>65</td></tr>\n",
       "\t<tr><td> 8</td><td>2 </td><td>90</td><td>78</td><td>25</td></tr>\n",
       "\t<tr><td>11</td><td>3 </td><td>65</td><td>65</td><td>65</td></tr>\n",
       "\t<tr><td>15</td><td>4 </td><td>75</td><td>56</td><td>78</td></tr>\n",
       "\t<tr><td>17</td><td>5 </td><td>65</td><td>68</td><td>98</td></tr>\n",
       "\t<tr><td>18</td><td>5 </td><td>80</td><td>78</td><td>90</td></tr>\n",
       "\t<tr><td>19</td><td>5 </td><td>89</td><td>68</td><td>87</td></tr>\n",
       "</tbody>\n",
       "</table>\n"
      ],
      "text/latex": [
       "\\begin{tabular}{r|lllll}\n",
       " id & class & math & english & science\\\\\n",
       "\\hline\n",
       "\t  5 & 2  & 25 & 80 & 65\\\\\n",
       "\t  8 & 2  & 90 & 78 & 25\\\\\n",
       "\t 11 & 3  & 65 & 65 & 65\\\\\n",
       "\t 15 & 4  & 75 & 56 & 78\\\\\n",
       "\t 17 & 5  & 65 & 68 & 98\\\\\n",
       "\t 18 & 5  & 80 & 78 & 90\\\\\n",
       "\t 19 & 5  & 89 & 68 & 87\\\\\n",
       "\\end{tabular}\n"
      ],
      "text/markdown": [
       "\n",
       "id | class | math | english | science | \n",
       "|---|---|---|---|---|---|---|\n",
       "|  5 | 2  | 25 | 80 | 65 | \n",
       "|  8 | 2  | 90 | 78 | 25 | \n",
       "| 11 | 3  | 65 | 65 | 65 | \n",
       "| 15 | 4  | 75 | 56 | 78 | \n",
       "| 17 | 5  | 65 | 68 | 98 | \n",
       "| 18 | 5  | 80 | 78 | 90 | \n",
       "| 19 | 5  | 89 | 68 | 87 | \n",
       "\n",
       "\n"
      ],
      "text/plain": [
       "  id class math english science\n",
       "1  5 2     25   80      65     \n",
       "2  8 2     90   78      25     \n",
       "3 11 3     65   65      65     \n",
       "4 15 4     75   56      78     \n",
       "5 17 5     65   68      98     \n",
       "6 18 5     80   78      90     \n",
       "7 19 5     89   68      87     "
      ]
     },
     "metadata": {},
     "output_type": "display_data"
    }
   ],
   "source": [
    "# 영어점수가 80 점 이하인 경우\n",
    "exam %>% filter(english <= 80)"
   ]
  },
  {
   "cell_type": "markdown",
   "metadata": {},
   "source": [
    "### 여러 조건을 충족하는 행 추출하기\n"
   ]
  },
  {
   "cell_type": "code",
   "execution_count": 142,
   "metadata": {},
   "outputs": [
    {
     "data": {
      "text/html": [
       "<table>\n",
       "<thead><tr><th scope=col>id</th><th scope=col>class</th><th scope=col>math</th><th scope=col>english</th><th scope=col>science</th></tr></thead>\n",
       "<tbody>\n",
       "\t<tr><td>1 </td><td>1 </td><td>50</td><td>98</td><td>50</td></tr>\n",
       "\t<tr><td>2 </td><td>1 </td><td>60</td><td>97</td><td>60</td></tr>\n",
       "</tbody>\n",
       "</table>\n"
      ],
      "text/latex": [
       "\\begin{tabular}{r|lllll}\n",
       " id & class & math & english & science\\\\\n",
       "\\hline\n",
       "\t 1  & 1  & 50 & 98 & 50\\\\\n",
       "\t 2  & 1  & 60 & 97 & 60\\\\\n",
       "\\end{tabular}\n"
      ],
      "text/markdown": [
       "\n",
       "id | class | math | english | science | \n",
       "|---|---|\n",
       "| 1  | 1  | 50 | 98 | 50 | \n",
       "| 2  | 1  | 60 | 97 | 60 | \n",
       "\n",
       "\n"
      ],
      "text/plain": [
       "  id class math english science\n",
       "1 1  1     50   98      50     \n",
       "2 2  1     60   97      60     "
      ]
     },
     "metadata": {},
     "output_type": "display_data"
    }
   ],
   "source": [
    "# 1 반 이면서 수학 점수가 50 점 이상인 경우\n",
    "exam %>% filter(class == 1 & math >= 50)"
   ]
  },
  {
   "cell_type": "code",
   "execution_count": 143,
   "metadata": {},
   "outputs": [
    {
     "data": {
      "text/html": [
       "<table>\n",
       "<thead><tr><th scope=col>id</th><th scope=col>class</th><th scope=col>math</th><th scope=col>english</th><th scope=col>science</th></tr></thead>\n",
       "<tbody>\n",
       "\t<tr><td>5 </td><td>2 </td><td>25</td><td>80</td><td>65</td></tr>\n",
       "\t<tr><td>6 </td><td>2 </td><td>50</td><td>89</td><td>98</td></tr>\n",
       "\t<tr><td>7 </td><td>2 </td><td>80</td><td>90</td><td>45</td></tr>\n",
       "</tbody>\n",
       "</table>\n"
      ],
      "text/latex": [
       "\\begin{tabular}{r|lllll}\n",
       " id & class & math & english & science\\\\\n",
       "\\hline\n",
       "\t 5  & 2  & 25 & 80 & 65\\\\\n",
       "\t 6  & 2  & 50 & 89 & 98\\\\\n",
       "\t 7  & 2  & 80 & 90 & 45\\\\\n",
       "\\end{tabular}\n"
      ],
      "text/markdown": [
       "\n",
       "id | class | math | english | science | \n",
       "|---|---|---|\n",
       "| 5  | 2  | 25 | 80 | 65 | \n",
       "| 6  | 2  | 50 | 89 | 98 | \n",
       "| 7  | 2  | 80 | 90 | 45 | \n",
       "\n",
       "\n"
      ],
      "text/plain": [
       "  id class math english science\n",
       "1 5  2     25   80      65     \n",
       "2 6  2     50   89      98     \n",
       "3 7  2     80   90      45     "
      ]
     },
     "metadata": {},
     "output_type": "display_data"
    }
   ],
   "source": [
    "# 2 반 이면서 영어점수가 80 점 이상인 경우\n",
    "exam %>% filter(class == 2 & english >= 80)"
   ]
  },
  {
   "cell_type": "markdown",
   "metadata": {},
   "source": [
    "### 여러 조건 중 하나 이상 충족하는 행 추출하기"
   ]
  },
  {
   "cell_type": "code",
   "execution_count": 144,
   "metadata": {},
   "outputs": [
    {
     "data": {
      "text/html": [
       "<table>\n",
       "<thead><tr><th scope=col>id</th><th scope=col>class</th><th scope=col>math</th><th scope=col>english</th><th scope=col>science</th></tr></thead>\n",
       "<tbody>\n",
       "\t<tr><td> 1</td><td>1 </td><td>50</td><td>98</td><td>50</td></tr>\n",
       "\t<tr><td> 2</td><td>1 </td><td>60</td><td>97</td><td>60</td></tr>\n",
       "\t<tr><td> 4</td><td>1 </td><td>30</td><td>98</td><td>58</td></tr>\n",
       "\t<tr><td> 7</td><td>2 </td><td>80</td><td>90</td><td>45</td></tr>\n",
       "\t<tr><td> 8</td><td>2 </td><td>90</td><td>78</td><td>25</td></tr>\n",
       "\t<tr><td> 9</td><td>3 </td><td>20</td><td>98</td><td>15</td></tr>\n",
       "\t<tr><td>10</td><td>3 </td><td>50</td><td>98</td><td>45</td></tr>\n",
       "\t<tr><td>13</td><td>4 </td><td>46</td><td>98</td><td>65</td></tr>\n",
       "\t<tr><td>16</td><td>4 </td><td>58</td><td>98</td><td>65</td></tr>\n",
       "</tbody>\n",
       "</table>\n"
      ],
      "text/latex": [
       "\\begin{tabular}{r|lllll}\n",
       " id & class & math & english & science\\\\\n",
       "\\hline\n",
       "\t  1 & 1  & 50 & 98 & 50\\\\\n",
       "\t  2 & 1  & 60 & 97 & 60\\\\\n",
       "\t  4 & 1  & 30 & 98 & 58\\\\\n",
       "\t  7 & 2  & 80 & 90 & 45\\\\\n",
       "\t  8 & 2  & 90 & 78 & 25\\\\\n",
       "\t  9 & 3  & 20 & 98 & 15\\\\\n",
       "\t 10 & 3  & 50 & 98 & 45\\\\\n",
       "\t 13 & 4  & 46 & 98 & 65\\\\\n",
       "\t 16 & 4  & 58 & 98 & 65\\\\\n",
       "\\end{tabular}\n"
      ],
      "text/markdown": [
       "\n",
       "id | class | math | english | science | \n",
       "|---|---|---|---|---|---|---|---|---|\n",
       "|  1 | 1  | 50 | 98 | 50 | \n",
       "|  2 | 1  | 60 | 97 | 60 | \n",
       "|  4 | 1  | 30 | 98 | 58 | \n",
       "|  7 | 2  | 80 | 90 | 45 | \n",
       "|  8 | 2  | 90 | 78 | 25 | \n",
       "|  9 | 3  | 20 | 98 | 15 | \n",
       "| 10 | 3  | 50 | 98 | 45 | \n",
       "| 13 | 4  | 46 | 98 | 65 | \n",
       "| 16 | 4  | 58 | 98 | 65 | \n",
       "\n",
       "\n"
      ],
      "text/plain": [
       "  id class math english science\n",
       "1  1 1     50   98      50     \n",
       "2  2 1     60   97      60     \n",
       "3  4 1     30   98      58     \n",
       "4  7 2     80   90      45     \n",
       "5  8 2     90   78      25     \n",
       "6  9 3     20   98      15     \n",
       "7 10 3     50   98      45     \n",
       "8 13 4     46   98      65     \n",
       "9 16 4     58   98      65     "
      ]
     },
     "metadata": {},
     "output_type": "display_data"
    }
   ],
   "source": [
    "# 수학 점수가 90 점 이상이거나 영어점수가 90 점 이상인 경우\n",
    "exam %>% filter(math >= 90 | english >= 90)"
   ]
  },
  {
   "cell_type": "code",
   "execution_count": 145,
   "metadata": {},
   "outputs": [
    {
     "data": {
      "text/html": [
       "<table>\n",
       "<thead><tr><th scope=col>id</th><th scope=col>class</th><th scope=col>math</th><th scope=col>english</th><th scope=col>science</th></tr></thead>\n",
       "<tbody>\n",
       "\t<tr><td> 3</td><td>1 </td><td>45</td><td>86</td><td>78</td></tr>\n",
       "\t<tr><td> 5</td><td>2 </td><td>25</td><td>80</td><td>65</td></tr>\n",
       "\t<tr><td> 6</td><td>2 </td><td>50</td><td>89</td><td>98</td></tr>\n",
       "\t<tr><td> 7</td><td>2 </td><td>80</td><td>90</td><td>45</td></tr>\n",
       "\t<tr><td> 8</td><td>2 </td><td>90</td><td>78</td><td>25</td></tr>\n",
       "\t<tr><td> 9</td><td>3 </td><td>20</td><td>98</td><td>15</td></tr>\n",
       "\t<tr><td>10</td><td>3 </td><td>50</td><td>98</td><td>45</td></tr>\n",
       "\t<tr><td>11</td><td>3 </td><td>65</td><td>65</td><td>65</td></tr>\n",
       "\t<tr><td>12</td><td>3 </td><td>45</td><td>85</td><td>32</td></tr>\n",
       "\t<tr><td>14</td><td>4 </td><td>48</td><td>87</td><td>12</td></tr>\n",
       "\t<tr><td>15</td><td>4 </td><td>75</td><td>56</td><td>78</td></tr>\n",
       "\t<tr><td>17</td><td>5 </td><td>65</td><td>68</td><td>98</td></tr>\n",
       "\t<tr><td>18</td><td>5 </td><td>80</td><td>78</td><td>90</td></tr>\n",
       "\t<tr><td>19</td><td>5 </td><td>89</td><td>68</td><td>87</td></tr>\n",
       "\t<tr><td>20</td><td>5 </td><td>78</td><td>83</td><td>58</td></tr>\n",
       "</tbody>\n",
       "</table>\n"
      ],
      "text/latex": [
       "\\begin{tabular}{r|lllll}\n",
       " id & class & math & english & science\\\\\n",
       "\\hline\n",
       "\t  3 & 1  & 45 & 86 & 78\\\\\n",
       "\t  5 & 2  & 25 & 80 & 65\\\\\n",
       "\t  6 & 2  & 50 & 89 & 98\\\\\n",
       "\t  7 & 2  & 80 & 90 & 45\\\\\n",
       "\t  8 & 2  & 90 & 78 & 25\\\\\n",
       "\t  9 & 3  & 20 & 98 & 15\\\\\n",
       "\t 10 & 3  & 50 & 98 & 45\\\\\n",
       "\t 11 & 3  & 65 & 65 & 65\\\\\n",
       "\t 12 & 3  & 45 & 85 & 32\\\\\n",
       "\t 14 & 4  & 48 & 87 & 12\\\\\n",
       "\t 15 & 4  & 75 & 56 & 78\\\\\n",
       "\t 17 & 5  & 65 & 68 & 98\\\\\n",
       "\t 18 & 5  & 80 & 78 & 90\\\\\n",
       "\t 19 & 5  & 89 & 68 & 87\\\\\n",
       "\t 20 & 5  & 78 & 83 & 58\\\\\n",
       "\\end{tabular}\n"
      ],
      "text/markdown": [
       "\n",
       "id | class | math | english | science | \n",
       "|---|---|---|---|---|---|---|---|---|---|---|---|---|---|---|\n",
       "|  3 | 1  | 45 | 86 | 78 | \n",
       "|  5 | 2  | 25 | 80 | 65 | \n",
       "|  6 | 2  | 50 | 89 | 98 | \n",
       "|  7 | 2  | 80 | 90 | 45 | \n",
       "|  8 | 2  | 90 | 78 | 25 | \n",
       "|  9 | 3  | 20 | 98 | 15 | \n",
       "| 10 | 3  | 50 | 98 | 45 | \n",
       "| 11 | 3  | 65 | 65 | 65 | \n",
       "| 12 | 3  | 45 | 85 | 32 | \n",
       "| 14 | 4  | 48 | 87 | 12 | \n",
       "| 15 | 4  | 75 | 56 | 78 | \n",
       "| 17 | 5  | 65 | 68 | 98 | \n",
       "| 18 | 5  | 80 | 78 | 90 | \n",
       "| 19 | 5  | 89 | 68 | 87 | \n",
       "| 20 | 5  | 78 | 83 | 58 | \n",
       "\n",
       "\n"
      ],
      "text/plain": [
       "   id class math english science\n",
       "1   3 1     45   86      78     \n",
       "2   5 2     25   80      65     \n",
       "3   6 2     50   89      98     \n",
       "4   7 2     80   90      45     \n",
       "5   8 2     90   78      25     \n",
       "6   9 3     20   98      15     \n",
       "7  10 3     50   98      45     \n",
       "8  11 3     65   65      65     \n",
       "9  12 3     45   85      32     \n",
       "10 14 4     48   87      12     \n",
       "11 15 4     75   56      78     \n",
       "12 17 5     65   68      98     \n",
       "13 18 5     80   78      90     \n",
       "14 19 5     89   68      87     \n",
       "15 20 5     78   83      58     "
      ]
     },
     "metadata": {},
     "output_type": "display_data"
    }
   ],
   "source": [
    "# 영어점수가 90 점 미만이거나 과학점수가 50 점 미만인 경우\n",
    "exam %>% filter(english < 90 | science < 50)"
   ]
  },
  {
   "cell_type": "markdown",
   "metadata": {},
   "source": [
    "### 목록에 해당되는 행 추출하기"
   ]
  },
  {
   "cell_type": "code",
   "execution_count": 146,
   "metadata": {},
   "outputs": [
    {
     "data": {
      "text/html": [
       "<table>\n",
       "<thead><tr><th scope=col>id</th><th scope=col>class</th><th scope=col>math</th><th scope=col>english</th><th scope=col>science</th></tr></thead>\n",
       "<tbody>\n",
       "\t<tr><td> 1</td><td>1 </td><td>50</td><td>98</td><td>50</td></tr>\n",
       "\t<tr><td> 2</td><td>1 </td><td>60</td><td>97</td><td>60</td></tr>\n",
       "\t<tr><td> 3</td><td>1 </td><td>45</td><td>86</td><td>78</td></tr>\n",
       "\t<tr><td> 4</td><td>1 </td><td>30</td><td>98</td><td>58</td></tr>\n",
       "\t<tr><td> 9</td><td>3 </td><td>20</td><td>98</td><td>15</td></tr>\n",
       "\t<tr><td>10</td><td>3 </td><td>50</td><td>98</td><td>45</td></tr>\n",
       "\t<tr><td>11</td><td>3 </td><td>65</td><td>65</td><td>65</td></tr>\n",
       "\t<tr><td>12</td><td>3 </td><td>45</td><td>85</td><td>32</td></tr>\n",
       "\t<tr><td>17</td><td>5 </td><td>65</td><td>68</td><td>98</td></tr>\n",
       "\t<tr><td>18</td><td>5 </td><td>80</td><td>78</td><td>90</td></tr>\n",
       "\t<tr><td>19</td><td>5 </td><td>89</td><td>68</td><td>87</td></tr>\n",
       "\t<tr><td>20</td><td>5 </td><td>78</td><td>83</td><td>58</td></tr>\n",
       "</tbody>\n",
       "</table>\n"
      ],
      "text/latex": [
       "\\begin{tabular}{r|lllll}\n",
       " id & class & math & english & science\\\\\n",
       "\\hline\n",
       "\t  1 & 1  & 50 & 98 & 50\\\\\n",
       "\t  2 & 1  & 60 & 97 & 60\\\\\n",
       "\t  3 & 1  & 45 & 86 & 78\\\\\n",
       "\t  4 & 1  & 30 & 98 & 58\\\\\n",
       "\t  9 & 3  & 20 & 98 & 15\\\\\n",
       "\t 10 & 3  & 50 & 98 & 45\\\\\n",
       "\t 11 & 3  & 65 & 65 & 65\\\\\n",
       "\t 12 & 3  & 45 & 85 & 32\\\\\n",
       "\t 17 & 5  & 65 & 68 & 98\\\\\n",
       "\t 18 & 5  & 80 & 78 & 90\\\\\n",
       "\t 19 & 5  & 89 & 68 & 87\\\\\n",
       "\t 20 & 5  & 78 & 83 & 58\\\\\n",
       "\\end{tabular}\n"
      ],
      "text/markdown": [
       "\n",
       "id | class | math | english | science | \n",
       "|---|---|---|---|---|---|---|---|---|---|---|---|\n",
       "|  1 | 1  | 50 | 98 | 50 | \n",
       "|  2 | 1  | 60 | 97 | 60 | \n",
       "|  3 | 1  | 45 | 86 | 78 | \n",
       "|  4 | 1  | 30 | 98 | 58 | \n",
       "|  9 | 3  | 20 | 98 | 15 | \n",
       "| 10 | 3  | 50 | 98 | 45 | \n",
       "| 11 | 3  | 65 | 65 | 65 | \n",
       "| 12 | 3  | 45 | 85 | 32 | \n",
       "| 17 | 5  | 65 | 68 | 98 | \n",
       "| 18 | 5  | 80 | 78 | 90 | \n",
       "| 19 | 5  | 89 | 68 | 87 | \n",
       "| 20 | 5  | 78 | 83 | 58 | \n",
       "\n",
       "\n"
      ],
      "text/plain": [
       "   id class math english science\n",
       "1   1 1     50   98      50     \n",
       "2   2 1     60   97      60     \n",
       "3   3 1     45   86      78     \n",
       "4   4 1     30   98      58     \n",
       "5   9 3     20   98      15     \n",
       "6  10 3     50   98      45     \n",
       "7  11 3     65   65      65     \n",
       "8  12 3     45   85      32     \n",
       "9  17 5     65   68      98     \n",
       "10 18 5     80   78      90     \n",
       "11 19 5     89   68      87     \n",
       "12 20 5     78   83      58     "
      ]
     },
     "metadata": {},
     "output_type": "display_data"
    }
   ],
   "source": [
    "exam %>% filter(class == 1 | class == 3 | class == 5) # 1, 3, 5 반에 해당되면 추출"
   ]
  },
  {
   "cell_type": "markdown",
   "metadata": {},
   "source": [
    "### %in% 기호 이용하기"
   ]
  },
  {
   "cell_type": "code",
   "execution_count": 147,
   "metadata": {},
   "outputs": [
    {
     "data": {
      "text/html": [
       "<table>\n",
       "<thead><tr><th scope=col>id</th><th scope=col>class</th><th scope=col>math</th><th scope=col>english</th><th scope=col>science</th></tr></thead>\n",
       "<tbody>\n",
       "\t<tr><td> 1</td><td>1 </td><td>50</td><td>98</td><td>50</td></tr>\n",
       "\t<tr><td> 2</td><td>1 </td><td>60</td><td>97</td><td>60</td></tr>\n",
       "\t<tr><td> 3</td><td>1 </td><td>45</td><td>86</td><td>78</td></tr>\n",
       "\t<tr><td> 4</td><td>1 </td><td>30</td><td>98</td><td>58</td></tr>\n",
       "\t<tr><td> 9</td><td>3 </td><td>20</td><td>98</td><td>15</td></tr>\n",
       "\t<tr><td>10</td><td>3 </td><td>50</td><td>98</td><td>45</td></tr>\n",
       "\t<tr><td>11</td><td>3 </td><td>65</td><td>65</td><td>65</td></tr>\n",
       "\t<tr><td>12</td><td>3 </td><td>45</td><td>85</td><td>32</td></tr>\n",
       "\t<tr><td>17</td><td>5 </td><td>65</td><td>68</td><td>98</td></tr>\n",
       "\t<tr><td>18</td><td>5 </td><td>80</td><td>78</td><td>90</td></tr>\n",
       "\t<tr><td>19</td><td>5 </td><td>89</td><td>68</td><td>87</td></tr>\n",
       "\t<tr><td>20</td><td>5 </td><td>78</td><td>83</td><td>58</td></tr>\n",
       "</tbody>\n",
       "</table>\n"
      ],
      "text/latex": [
       "\\begin{tabular}{r|lllll}\n",
       " id & class & math & english & science\\\\\n",
       "\\hline\n",
       "\t  1 & 1  & 50 & 98 & 50\\\\\n",
       "\t  2 & 1  & 60 & 97 & 60\\\\\n",
       "\t  3 & 1  & 45 & 86 & 78\\\\\n",
       "\t  4 & 1  & 30 & 98 & 58\\\\\n",
       "\t  9 & 3  & 20 & 98 & 15\\\\\n",
       "\t 10 & 3  & 50 & 98 & 45\\\\\n",
       "\t 11 & 3  & 65 & 65 & 65\\\\\n",
       "\t 12 & 3  & 45 & 85 & 32\\\\\n",
       "\t 17 & 5  & 65 & 68 & 98\\\\\n",
       "\t 18 & 5  & 80 & 78 & 90\\\\\n",
       "\t 19 & 5  & 89 & 68 & 87\\\\\n",
       "\t 20 & 5  & 78 & 83 & 58\\\\\n",
       "\\end{tabular}\n"
      ],
      "text/markdown": [
       "\n",
       "id | class | math | english | science | \n",
       "|---|---|---|---|---|---|---|---|---|---|---|---|\n",
       "|  1 | 1  | 50 | 98 | 50 | \n",
       "|  2 | 1  | 60 | 97 | 60 | \n",
       "|  3 | 1  | 45 | 86 | 78 | \n",
       "|  4 | 1  | 30 | 98 | 58 | \n",
       "|  9 | 3  | 20 | 98 | 15 | \n",
       "| 10 | 3  | 50 | 98 | 45 | \n",
       "| 11 | 3  | 65 | 65 | 65 | \n",
       "| 12 | 3  | 45 | 85 | 32 | \n",
       "| 17 | 5  | 65 | 68 | 98 | \n",
       "| 18 | 5  | 80 | 78 | 90 | \n",
       "| 19 | 5  | 89 | 68 | 87 | \n",
       "| 20 | 5  | 78 | 83 | 58 | \n",
       "\n",
       "\n"
      ],
      "text/plain": [
       "   id class math english science\n",
       "1   1 1     50   98      50     \n",
       "2   2 1     60   97      60     \n",
       "3   3 1     45   86      78     \n",
       "4   4 1     30   98      58     \n",
       "5   9 3     20   98      15     \n",
       "6  10 3     50   98      45     \n",
       "7  11 3     65   65      65     \n",
       "8  12 3     45   85      32     \n",
       "9  17 5     65   68      98     \n",
       "10 18 5     80   78      90     \n",
       "11 19 5     89   68      87     \n",
       "12 20 5     78   83      58     "
      ]
     },
     "metadata": {},
     "output_type": "display_data"
    }
   ],
   "source": [
    "exam %>% filter(class %in% c(1,3,5)) # 1, 3, 5 반에 해당하면 추출   #find %IN% table"
   ]
  },
  {
   "cell_type": "code",
   "execution_count": 148,
   "metadata": {},
   "outputs": [
    {
     "data": {
      "text/html": [
       "<table>\n",
       "<thead><tr><th scope=col>id</th><th scope=col>class</th><th scope=col>math</th><th scope=col>english</th><th scope=col>science</th></tr></thead>\n",
       "<tbody>\n",
       "\t<tr><td>1 </td><td>1 </td><td>50</td><td>98</td><td>50</td></tr>\n",
       "\t<tr><td>2 </td><td>1 </td><td>60</td><td>97</td><td>60</td></tr>\n",
       "\t<tr><td>3 </td><td>1 </td><td>45</td><td>86</td><td>78</td></tr>\n",
       "\t<tr><td>4 </td><td>1 </td><td>30</td><td>98</td><td>58</td></tr>\n",
       "</tbody>\n",
       "</table>\n"
      ],
      "text/latex": [
       "\\begin{tabular}{r|lllll}\n",
       " id & class & math & english & science\\\\\n",
       "\\hline\n",
       "\t 1  & 1  & 50 & 98 & 50\\\\\n",
       "\t 2  & 1  & 60 & 97 & 60\\\\\n",
       "\t 3  & 1  & 45 & 86 & 78\\\\\n",
       "\t 4  & 1  & 30 & 98 & 58\\\\\n",
       "\\end{tabular}\n"
      ],
      "text/markdown": [
       "\n",
       "id | class | math | english | science | \n",
       "|---|---|---|---|\n",
       "| 1  | 1  | 50 | 98 | 50 | \n",
       "| 2  | 1  | 60 | 97 | 60 | \n",
       "| 3  | 1  | 45 | 86 | 78 | \n",
       "| 4  | 1  | 30 | 98 | 58 | \n",
       "\n",
       "\n"
      ],
      "text/plain": [
       "  id class math english science\n",
       "1 1  1     50   98      50     \n",
       "2 2  1     60   97      60     \n",
       "3 3  1     45   86      78     \n",
       "4 4  1     30   98      58     "
      ]
     },
     "metadata": {},
     "output_type": "display_data"
    }
   ],
   "source": [
    "exam %>% filter(class %in% 1)"
   ]
  },
  {
   "cell_type": "markdown",
   "metadata": {},
   "source": [
    "### 추출한 행으로 데이터 만들기\n"
   ]
  },
  {
   "cell_type": "code",
   "execution_count": 149,
   "metadata": {},
   "outputs": [],
   "source": [
    "class1 <- exam %>% filter(class == 1) # class 가 1 인 행 추출, class1 에 할당\n",
    "class2 <- exam %>% filter(class == 2) # class 가 2 인 행 추출, class2 에 할당"
   ]
  },
  {
   "cell_type": "code",
   "execution_count": 150,
   "metadata": {},
   "outputs": [
    {
     "data": {
      "text/html": [
       "46.25"
      ],
      "text/latex": [
       "46.25"
      ],
      "text/markdown": [
       "46.25"
      ],
      "text/plain": [
       "[1] 46.25"
      ]
     },
     "metadata": {},
     "output_type": "display_data"
    }
   ],
   "source": [
    "mean(class1$math) # 1 반 수학 점수 평균 구하기"
   ]
  },
  {
   "cell_type": "code",
   "execution_count": 151,
   "metadata": {},
   "outputs": [
    {
     "data": {
      "text/html": [
       "61.25"
      ],
      "text/latex": [
       "61.25"
      ],
      "text/markdown": [
       "61.25"
      ],
      "text/plain": [
       "[1] 61.25"
      ]
     },
     "metadata": {},
     "output_type": "display_data"
    }
   ],
   "source": [
    "mean(class2$math) # 2 반 수학 점수 평균 구하기"
   ]
  },
  {
   "cell_type": "markdown",
   "metadata": {},
   "source": [
    "### R에서 사용하는 기호들\n",
    "논리 연산자 | 기능\n",
    "-------- | --------\n",
    "< | 작다\n",
    "<= | 작거나 같다\n",
    "> | 크다\n",
    ">= | 크거나 같다\n",
    "== | 같다\n",
    "!= | 같지 않다\n",
    "│ | 또는\n",
    "& | 그리고\n",
    "%in% | 매칭 확인"
   ]
  },
  {
   "cell_type": "markdown",
   "metadata": {},
   "source": [
    "\n",
    "산술 연산자  | 기능\n",
    "-------- | -------\n",
    "&#43; | 더하기\n",
    "&#45; | 빼기\n",
    "&#42; | 곱하기\n",
    "/ | 나누기\n",
    "^ , ** | 제곱\n",
    "%/% | 나눗셈의 몫\n",
    "%% | 나눗셈의 나머지"
   ]
  },
  {
   "cell_type": "markdown",
   "metadata": {},
   "source": [
    "### 혼자서 해보기\n",
    "\n",
    "mpg 데이터를 이용해 분석 문제를 해결해 보세요."
   ]
  },
  {
   "cell_type": "markdown",
   "metadata": {},
   "source": [
    "Q1. 자동차 배기량에 따라 고속도로 연비가 다른지 알아보려고 합니다. displ(배기량)이 4 이하인 자동차와\n",
    "5 이상인 자동차 중 어떤 자동차의 hwy(고속도로 연비)가 평균적으로 더 높은지 알아보세요."
   ]
  },
  {
   "cell_type": "code",
   "execution_count": 152,
   "metadata": {},
   "outputs": [],
   "source": [
    "mpg <- as.data.frame(ggplot2::mpg)\n",
    "\n",
    "mpg_4 <- mpg %>% filter(displ <= 4)\n",
    "mpg_5 <- mpg %>% filter(displ >= 5) "
   ]
  },
  {
   "cell_type": "code",
   "execution_count": 153,
   "metadata": {},
   "outputs": [
    {
     "data": {
      "text/html": [
       "25.9631901840491"
      ],
      "text/latex": [
       "25.9631901840491"
      ],
      "text/markdown": [
       "25.9631901840491"
      ],
      "text/plain": [
       "[1] 25.96319"
      ]
     },
     "metadata": {},
     "output_type": "display_data"
    }
   ],
   "source": [
    "mean(mpg_4$hwy)"
   ]
  },
  {
   "cell_type": "code",
   "execution_count": 154,
   "metadata": {},
   "outputs": [
    {
     "data": {
      "text/html": [
       "18.0789473684211"
      ],
      "text/latex": [
       "18.0789473684211"
      ],
      "text/markdown": [
       "18.0789473684211"
      ],
      "text/plain": [
       "[1] 18.07895"
      ]
     },
     "metadata": {},
     "output_type": "display_data"
    }
   ],
   "source": [
    "mean(mpg_5$hwy) "
   ]
  },
  {
   "cell_type": "markdown",
   "metadata": {},
   "source": [
    "Q2. 자동차 제조 회사에 따라 도시 연비가 다른지 알아보려고 합니다. \"audi\"와 \"toyota\" 중 어느\n",
    "manufacturer(자동차 제조 회사)의 cty(도시 연비)가 평균적으로 더 높은지 알아보세요."
   ]
  },
  {
   "cell_type": "code",
   "execution_count": 155,
   "metadata": {},
   "outputs": [],
   "source": [
    "mpg_audi <- mpg %>% filter(manufacturer == \"audi\") \n",
    "mpg_toyota <- mpg %>% filter(manufacturer == \"toyota\") "
   ]
  },
  {
   "cell_type": "code",
   "execution_count": 156,
   "metadata": {},
   "outputs": [
    {
     "data": {
      "text/html": [
       "17.6111111111111"
      ],
      "text/latex": [
       "17.6111111111111"
      ],
      "text/markdown": [
       "17.6111111111111"
      ],
      "text/plain": [
       "[1] 17.61111"
      ]
     },
     "metadata": {},
     "output_type": "display_data"
    }
   ],
   "source": [
    "mean(mpg_audi$cty) "
   ]
  },
  {
   "cell_type": "code",
   "execution_count": 157,
   "metadata": {},
   "outputs": [
    {
     "data": {
      "text/html": [
       "18.5294117647059"
      ],
      "text/latex": [
       "18.5294117647059"
      ],
      "text/markdown": [
       "18.5294117647059"
      ],
      "text/plain": [
       "[1] 18.52941"
      ]
     },
     "metadata": {},
     "output_type": "display_data"
    }
   ],
   "source": [
    "mean(mpg_toyota$cty) "
   ]
  },
  {
   "cell_type": "markdown",
   "metadata": {},
   "source": [
    "Q3. \"chevrolet\", \"ford\", \"honda\" 자동차의 고속도로 연비 평균을 알아보려고 합니다. 이 회사들의\n",
    "자동차를 추출한 뒤 hwy 전체 평균을 구해보세요."
   ]
  },
  {
   "cell_type": "code",
   "execution_count": 158,
   "metadata": {},
   "outputs": [
    {
     "data": {
      "text/html": [
       "22.5094339622642"
      ],
      "text/latex": [
       "22.5094339622642"
      ],
      "text/markdown": [
       "22.5094339622642"
      ],
      "text/plain": [
       "[1] 22.50943"
      ]
     },
     "metadata": {},
     "output_type": "display_data"
    }
   ],
   "source": [
    "mpg_1 <- mpg %>% filter(manufacturer %in% c(\"chevrolet\", \"ford\", \"honda\"))\n",
    "mean(mpg_1$hwy)"
   ]
  },
  {
   "cell_type": "markdown",
   "metadata": {},
   "source": [
    "## 06-3. 필요한 변수만 추출하기\n",
    "![ex_screenshot1](./img/13.PNG)"
   ]
  },
  {
   "cell_type": "code",
   "execution_count": 159,
   "metadata": {},
   "outputs": [
    {
     "data": {
      "text/html": [
       "<table>\n",
       "<thead><tr><th scope=col>math</th></tr></thead>\n",
       "<tbody>\n",
       "\t<tr><td>50</td></tr>\n",
       "\t<tr><td>60</td></tr>\n",
       "\t<tr><td>45</td></tr>\n",
       "\t<tr><td>30</td></tr>\n",
       "\t<tr><td>25</td></tr>\n",
       "\t<tr><td>50</td></tr>\n",
       "\t<tr><td>80</td></tr>\n",
       "\t<tr><td>90</td></tr>\n",
       "\t<tr><td>20</td></tr>\n",
       "\t<tr><td>50</td></tr>\n",
       "\t<tr><td>65</td></tr>\n",
       "\t<tr><td>45</td></tr>\n",
       "\t<tr><td>46</td></tr>\n",
       "\t<tr><td>48</td></tr>\n",
       "\t<tr><td>75</td></tr>\n",
       "\t<tr><td>58</td></tr>\n",
       "\t<tr><td>65</td></tr>\n",
       "\t<tr><td>80</td></tr>\n",
       "\t<tr><td>89</td></tr>\n",
       "\t<tr><td>78</td></tr>\n",
       "</tbody>\n",
       "</table>\n"
      ],
      "text/latex": [
       "\\begin{tabular}{r|l}\n",
       " math\\\\\n",
       "\\hline\n",
       "\t 50\\\\\n",
       "\t 60\\\\\n",
       "\t 45\\\\\n",
       "\t 30\\\\\n",
       "\t 25\\\\\n",
       "\t 50\\\\\n",
       "\t 80\\\\\n",
       "\t 90\\\\\n",
       "\t 20\\\\\n",
       "\t 50\\\\\n",
       "\t 65\\\\\n",
       "\t 45\\\\\n",
       "\t 46\\\\\n",
       "\t 48\\\\\n",
       "\t 75\\\\\n",
       "\t 58\\\\\n",
       "\t 65\\\\\n",
       "\t 80\\\\\n",
       "\t 89\\\\\n",
       "\t 78\\\\\n",
       "\\end{tabular}\n"
      ],
      "text/markdown": [
       "\n",
       "math | \n",
       "|---|---|---|---|---|---|---|---|---|---|---|---|---|---|---|---|---|---|---|---|\n",
       "| 50 | \n",
       "| 60 | \n",
       "| 45 | \n",
       "| 30 | \n",
       "| 25 | \n",
       "| 50 | \n",
       "| 80 | \n",
       "| 90 | \n",
       "| 20 | \n",
       "| 50 | \n",
       "| 65 | \n",
       "| 45 | \n",
       "| 46 | \n",
       "| 48 | \n",
       "| 75 | \n",
       "| 58 | \n",
       "| 65 | \n",
       "| 80 | \n",
       "| 89 | \n",
       "| 78 | \n",
       "\n",
       "\n"
      ],
      "text/plain": [
       "   math\n",
       "1  50  \n",
       "2  60  \n",
       "3  45  \n",
       "4  30  \n",
       "5  25  \n",
       "6  50  \n",
       "7  80  \n",
       "8  90  \n",
       "9  20  \n",
       "10 50  \n",
       "11 65  \n",
       "12 45  \n",
       "13 46  \n",
       "14 48  \n",
       "15 75  \n",
       "16 58  \n",
       "17 65  \n",
       "18 80  \n",
       "19 89  \n",
       "20 78  "
      ]
     },
     "metadata": {},
     "output_type": "display_data"
    }
   ],
   "source": [
    "exam %>% select(math) # math 추출"
   ]
  },
  {
   "cell_type": "code",
   "execution_count": 160,
   "metadata": {},
   "outputs": [
    {
     "data": {
      "text/html": [
       "<table>\n",
       "<thead><tr><th scope=col>english</th></tr></thead>\n",
       "<tbody>\n",
       "\t<tr><td>98</td></tr>\n",
       "\t<tr><td>97</td></tr>\n",
       "\t<tr><td>86</td></tr>\n",
       "\t<tr><td>98</td></tr>\n",
       "\t<tr><td>80</td></tr>\n",
       "\t<tr><td>89</td></tr>\n",
       "\t<tr><td>90</td></tr>\n",
       "\t<tr><td>78</td></tr>\n",
       "\t<tr><td>98</td></tr>\n",
       "\t<tr><td>98</td></tr>\n",
       "\t<tr><td>65</td></tr>\n",
       "\t<tr><td>85</td></tr>\n",
       "\t<tr><td>98</td></tr>\n",
       "\t<tr><td>87</td></tr>\n",
       "\t<tr><td>56</td></tr>\n",
       "\t<tr><td>98</td></tr>\n",
       "\t<tr><td>68</td></tr>\n",
       "\t<tr><td>78</td></tr>\n",
       "\t<tr><td>68</td></tr>\n",
       "\t<tr><td>83</td></tr>\n",
       "</tbody>\n",
       "</table>\n"
      ],
      "text/latex": [
       "\\begin{tabular}{r|l}\n",
       " english\\\\\n",
       "\\hline\n",
       "\t 98\\\\\n",
       "\t 97\\\\\n",
       "\t 86\\\\\n",
       "\t 98\\\\\n",
       "\t 80\\\\\n",
       "\t 89\\\\\n",
       "\t 90\\\\\n",
       "\t 78\\\\\n",
       "\t 98\\\\\n",
       "\t 98\\\\\n",
       "\t 65\\\\\n",
       "\t 85\\\\\n",
       "\t 98\\\\\n",
       "\t 87\\\\\n",
       "\t 56\\\\\n",
       "\t 98\\\\\n",
       "\t 68\\\\\n",
       "\t 78\\\\\n",
       "\t 68\\\\\n",
       "\t 83\\\\\n",
       "\\end{tabular}\n"
      ],
      "text/markdown": [
       "\n",
       "english | \n",
       "|---|---|---|---|---|---|---|---|---|---|---|---|---|---|---|---|---|---|---|---|\n",
       "| 98 | \n",
       "| 97 | \n",
       "| 86 | \n",
       "| 98 | \n",
       "| 80 | \n",
       "| 89 | \n",
       "| 90 | \n",
       "| 78 | \n",
       "| 98 | \n",
       "| 98 | \n",
       "| 65 | \n",
       "| 85 | \n",
       "| 98 | \n",
       "| 87 | \n",
       "| 56 | \n",
       "| 98 | \n",
       "| 68 | \n",
       "| 78 | \n",
       "| 68 | \n",
       "| 83 | \n",
       "\n",
       "\n"
      ],
      "text/plain": [
       "   english\n",
       "1  98     \n",
       "2  97     \n",
       "3  86     \n",
       "4  98     \n",
       "5  80     \n",
       "6  89     \n",
       "7  90     \n",
       "8  78     \n",
       "9  98     \n",
       "10 98     \n",
       "11 65     \n",
       "12 85     \n",
       "13 98     \n",
       "14 87     \n",
       "15 56     \n",
       "16 98     \n",
       "17 68     \n",
       "18 78     \n",
       "19 68     \n",
       "20 83     "
      ]
     },
     "metadata": {},
     "output_type": "display_data"
    }
   ],
   "source": [
    "exam %>% select(english) # english 추출"
   ]
  },
  {
   "cell_type": "markdown",
   "metadata": {},
   "source": [
    "### 여러 변수 추출하기"
   ]
  },
  {
   "cell_type": "code",
   "execution_count": 161,
   "metadata": {},
   "outputs": [
    {
     "data": {
      "text/html": [
       "<table>\n",
       "<thead><tr><th scope=col>class</th><th scope=col>math</th><th scope=col>english</th></tr></thead>\n",
       "<tbody>\n",
       "\t<tr><td>1 </td><td>50</td><td>98</td></tr>\n",
       "\t<tr><td>1 </td><td>60</td><td>97</td></tr>\n",
       "\t<tr><td>1 </td><td>45</td><td>86</td></tr>\n",
       "\t<tr><td>1 </td><td>30</td><td>98</td></tr>\n",
       "\t<tr><td>2 </td><td>25</td><td>80</td></tr>\n",
       "\t<tr><td>2 </td><td>50</td><td>89</td></tr>\n",
       "\t<tr><td>2 </td><td>80</td><td>90</td></tr>\n",
       "\t<tr><td>2 </td><td>90</td><td>78</td></tr>\n",
       "\t<tr><td>3 </td><td>20</td><td>98</td></tr>\n",
       "\t<tr><td>3 </td><td>50</td><td>98</td></tr>\n",
       "\t<tr><td>3 </td><td>65</td><td>65</td></tr>\n",
       "\t<tr><td>3 </td><td>45</td><td>85</td></tr>\n",
       "\t<tr><td>4 </td><td>46</td><td>98</td></tr>\n",
       "\t<tr><td>4 </td><td>48</td><td>87</td></tr>\n",
       "\t<tr><td>4 </td><td>75</td><td>56</td></tr>\n",
       "\t<tr><td>4 </td><td>58</td><td>98</td></tr>\n",
       "\t<tr><td>5 </td><td>65</td><td>68</td></tr>\n",
       "\t<tr><td>5 </td><td>80</td><td>78</td></tr>\n",
       "\t<tr><td>5 </td><td>89</td><td>68</td></tr>\n",
       "\t<tr><td>5 </td><td>78</td><td>83</td></tr>\n",
       "</tbody>\n",
       "</table>\n"
      ],
      "text/latex": [
       "\\begin{tabular}{r|lll}\n",
       " class & math & english\\\\\n",
       "\\hline\n",
       "\t 1  & 50 & 98\\\\\n",
       "\t 1  & 60 & 97\\\\\n",
       "\t 1  & 45 & 86\\\\\n",
       "\t 1  & 30 & 98\\\\\n",
       "\t 2  & 25 & 80\\\\\n",
       "\t 2  & 50 & 89\\\\\n",
       "\t 2  & 80 & 90\\\\\n",
       "\t 2  & 90 & 78\\\\\n",
       "\t 3  & 20 & 98\\\\\n",
       "\t 3  & 50 & 98\\\\\n",
       "\t 3  & 65 & 65\\\\\n",
       "\t 3  & 45 & 85\\\\\n",
       "\t 4  & 46 & 98\\\\\n",
       "\t 4  & 48 & 87\\\\\n",
       "\t 4  & 75 & 56\\\\\n",
       "\t 4  & 58 & 98\\\\\n",
       "\t 5  & 65 & 68\\\\\n",
       "\t 5  & 80 & 78\\\\\n",
       "\t 5  & 89 & 68\\\\\n",
       "\t 5  & 78 & 83\\\\\n",
       "\\end{tabular}\n"
      ],
      "text/markdown": [
       "\n",
       "class | math | english | \n",
       "|---|---|---|---|---|---|---|---|---|---|---|---|---|---|---|---|---|---|---|---|\n",
       "| 1  | 50 | 98 | \n",
       "| 1  | 60 | 97 | \n",
       "| 1  | 45 | 86 | \n",
       "| 1  | 30 | 98 | \n",
       "| 2  | 25 | 80 | \n",
       "| 2  | 50 | 89 | \n",
       "| 2  | 80 | 90 | \n",
       "| 2  | 90 | 78 | \n",
       "| 3  | 20 | 98 | \n",
       "| 3  | 50 | 98 | \n",
       "| 3  | 65 | 65 | \n",
       "| 3  | 45 | 85 | \n",
       "| 4  | 46 | 98 | \n",
       "| 4  | 48 | 87 | \n",
       "| 4  | 75 | 56 | \n",
       "| 4  | 58 | 98 | \n",
       "| 5  | 65 | 68 | \n",
       "| 5  | 80 | 78 | \n",
       "| 5  | 89 | 68 | \n",
       "| 5  | 78 | 83 | \n",
       "\n",
       "\n"
      ],
      "text/plain": [
       "   class math english\n",
       "1  1     50   98     \n",
       "2  1     60   97     \n",
       "3  1     45   86     \n",
       "4  1     30   98     \n",
       "5  2     25   80     \n",
       "6  2     50   89     \n",
       "7  2     80   90     \n",
       "8  2     90   78     \n",
       "9  3     20   98     \n",
       "10 3     50   98     \n",
       "11 3     65   65     \n",
       "12 3     45   85     \n",
       "13 4     46   98     \n",
       "14 4     48   87     \n",
       "15 4     75   56     \n",
       "16 4     58   98     \n",
       "17 5     65   68     \n",
       "18 5     80   78     \n",
       "19 5     89   68     \n",
       "20 5     78   83     "
      ]
     },
     "metadata": {},
     "output_type": "display_data"
    }
   ],
   "source": [
    "exam %>% select(class, math, english) # class, math, english 변수 추출"
   ]
  },
  {
   "cell_type": "markdown",
   "metadata": {},
   "source": [
    "### 변수 제외하기\n"
   ]
  },
  {
   "cell_type": "code",
   "execution_count": 162,
   "metadata": {},
   "outputs": [
    {
     "data": {
      "text/html": [
       "<table>\n",
       "<thead><tr><th scope=col>id</th><th scope=col>class</th><th scope=col>english</th><th scope=col>science</th></tr></thead>\n",
       "<tbody>\n",
       "\t<tr><td> 1</td><td>1 </td><td>98</td><td>50</td></tr>\n",
       "\t<tr><td> 2</td><td>1 </td><td>97</td><td>60</td></tr>\n",
       "\t<tr><td> 3</td><td>1 </td><td>86</td><td>78</td></tr>\n",
       "\t<tr><td> 4</td><td>1 </td><td>98</td><td>58</td></tr>\n",
       "\t<tr><td> 5</td><td>2 </td><td>80</td><td>65</td></tr>\n",
       "\t<tr><td> 6</td><td>2 </td><td>89</td><td>98</td></tr>\n",
       "\t<tr><td> 7</td><td>2 </td><td>90</td><td>45</td></tr>\n",
       "\t<tr><td> 8</td><td>2 </td><td>78</td><td>25</td></tr>\n",
       "\t<tr><td> 9</td><td>3 </td><td>98</td><td>15</td></tr>\n",
       "\t<tr><td>10</td><td>3 </td><td>98</td><td>45</td></tr>\n",
       "\t<tr><td>11</td><td>3 </td><td>65</td><td>65</td></tr>\n",
       "\t<tr><td>12</td><td>3 </td><td>85</td><td>32</td></tr>\n",
       "\t<tr><td>13</td><td>4 </td><td>98</td><td>65</td></tr>\n",
       "\t<tr><td>14</td><td>4 </td><td>87</td><td>12</td></tr>\n",
       "\t<tr><td>15</td><td>4 </td><td>56</td><td>78</td></tr>\n",
       "\t<tr><td>16</td><td>4 </td><td>98</td><td>65</td></tr>\n",
       "\t<tr><td>17</td><td>5 </td><td>68</td><td>98</td></tr>\n",
       "\t<tr><td>18</td><td>5 </td><td>78</td><td>90</td></tr>\n",
       "\t<tr><td>19</td><td>5 </td><td>68</td><td>87</td></tr>\n",
       "\t<tr><td>20</td><td>5 </td><td>83</td><td>58</td></tr>\n",
       "</tbody>\n",
       "</table>\n"
      ],
      "text/latex": [
       "\\begin{tabular}{r|llll}\n",
       " id & class & english & science\\\\\n",
       "\\hline\n",
       "\t  1 & 1  & 98 & 50\\\\\n",
       "\t  2 & 1  & 97 & 60\\\\\n",
       "\t  3 & 1  & 86 & 78\\\\\n",
       "\t  4 & 1  & 98 & 58\\\\\n",
       "\t  5 & 2  & 80 & 65\\\\\n",
       "\t  6 & 2  & 89 & 98\\\\\n",
       "\t  7 & 2  & 90 & 45\\\\\n",
       "\t  8 & 2  & 78 & 25\\\\\n",
       "\t  9 & 3  & 98 & 15\\\\\n",
       "\t 10 & 3  & 98 & 45\\\\\n",
       "\t 11 & 3  & 65 & 65\\\\\n",
       "\t 12 & 3  & 85 & 32\\\\\n",
       "\t 13 & 4  & 98 & 65\\\\\n",
       "\t 14 & 4  & 87 & 12\\\\\n",
       "\t 15 & 4  & 56 & 78\\\\\n",
       "\t 16 & 4  & 98 & 65\\\\\n",
       "\t 17 & 5  & 68 & 98\\\\\n",
       "\t 18 & 5  & 78 & 90\\\\\n",
       "\t 19 & 5  & 68 & 87\\\\\n",
       "\t 20 & 5  & 83 & 58\\\\\n",
       "\\end{tabular}\n"
      ],
      "text/markdown": [
       "\n",
       "id | class | english | science | \n",
       "|---|---|---|---|---|---|---|---|---|---|---|---|---|---|---|---|---|---|---|---|\n",
       "|  1 | 1  | 98 | 50 | \n",
       "|  2 | 1  | 97 | 60 | \n",
       "|  3 | 1  | 86 | 78 | \n",
       "|  4 | 1  | 98 | 58 | \n",
       "|  5 | 2  | 80 | 65 | \n",
       "|  6 | 2  | 89 | 98 | \n",
       "|  7 | 2  | 90 | 45 | \n",
       "|  8 | 2  | 78 | 25 | \n",
       "|  9 | 3  | 98 | 15 | \n",
       "| 10 | 3  | 98 | 45 | \n",
       "| 11 | 3  | 65 | 65 | \n",
       "| 12 | 3  | 85 | 32 | \n",
       "| 13 | 4  | 98 | 65 | \n",
       "| 14 | 4  | 87 | 12 | \n",
       "| 15 | 4  | 56 | 78 | \n",
       "| 16 | 4  | 98 | 65 | \n",
       "| 17 | 5  | 68 | 98 | \n",
       "| 18 | 5  | 78 | 90 | \n",
       "| 19 | 5  | 68 | 87 | \n",
       "| 20 | 5  | 83 | 58 | \n",
       "\n",
       "\n"
      ],
      "text/plain": [
       "   id class english science\n",
       "1   1 1     98      50     \n",
       "2   2 1     97      60     \n",
       "3   3 1     86      78     \n",
       "4   4 1     98      58     \n",
       "5   5 2     80      65     \n",
       "6   6 2     89      98     \n",
       "7   7 2     90      45     \n",
       "8   8 2     78      25     \n",
       "9   9 3     98      15     \n",
       "10 10 3     98      45     \n",
       "11 11 3     65      65     \n",
       "12 12 3     85      32     \n",
       "13 13 4     98      65     \n",
       "14 14 4     87      12     \n",
       "15 15 4     56      78     \n",
       "16 16 4     98      65     \n",
       "17 17 5     68      98     \n",
       "18 18 5     78      90     \n",
       "19 19 5     68      87     \n",
       "20 20 5     83      58     "
      ]
     },
     "metadata": {},
     "output_type": "display_data"
    }
   ],
   "source": [
    "exam %>% select(-math) # math 제외"
   ]
  },
  {
   "cell_type": "code",
   "execution_count": 163,
   "metadata": {},
   "outputs": [
    {
     "data": {
      "text/html": [
       "<table>\n",
       "<thead><tr><th scope=col>id</th><th scope=col>class</th><th scope=col>science</th></tr></thead>\n",
       "<tbody>\n",
       "\t<tr><td> 1</td><td>1 </td><td>50</td></tr>\n",
       "\t<tr><td> 2</td><td>1 </td><td>60</td></tr>\n",
       "\t<tr><td> 3</td><td>1 </td><td>78</td></tr>\n",
       "\t<tr><td> 4</td><td>1 </td><td>58</td></tr>\n",
       "\t<tr><td> 5</td><td>2 </td><td>65</td></tr>\n",
       "\t<tr><td> 6</td><td>2 </td><td>98</td></tr>\n",
       "\t<tr><td> 7</td><td>2 </td><td>45</td></tr>\n",
       "\t<tr><td> 8</td><td>2 </td><td>25</td></tr>\n",
       "\t<tr><td> 9</td><td>3 </td><td>15</td></tr>\n",
       "\t<tr><td>10</td><td>3 </td><td>45</td></tr>\n",
       "\t<tr><td>11</td><td>3 </td><td>65</td></tr>\n",
       "\t<tr><td>12</td><td>3 </td><td>32</td></tr>\n",
       "\t<tr><td>13</td><td>4 </td><td>65</td></tr>\n",
       "\t<tr><td>14</td><td>4 </td><td>12</td></tr>\n",
       "\t<tr><td>15</td><td>4 </td><td>78</td></tr>\n",
       "\t<tr><td>16</td><td>4 </td><td>65</td></tr>\n",
       "\t<tr><td>17</td><td>5 </td><td>98</td></tr>\n",
       "\t<tr><td>18</td><td>5 </td><td>90</td></tr>\n",
       "\t<tr><td>19</td><td>5 </td><td>87</td></tr>\n",
       "\t<tr><td>20</td><td>5 </td><td>58</td></tr>\n",
       "</tbody>\n",
       "</table>\n"
      ],
      "text/latex": [
       "\\begin{tabular}{r|lll}\n",
       " id & class & science\\\\\n",
       "\\hline\n",
       "\t  1 & 1  & 50\\\\\n",
       "\t  2 & 1  & 60\\\\\n",
       "\t  3 & 1  & 78\\\\\n",
       "\t  4 & 1  & 58\\\\\n",
       "\t  5 & 2  & 65\\\\\n",
       "\t  6 & 2  & 98\\\\\n",
       "\t  7 & 2  & 45\\\\\n",
       "\t  8 & 2  & 25\\\\\n",
       "\t  9 & 3  & 15\\\\\n",
       "\t 10 & 3  & 45\\\\\n",
       "\t 11 & 3  & 65\\\\\n",
       "\t 12 & 3  & 32\\\\\n",
       "\t 13 & 4  & 65\\\\\n",
       "\t 14 & 4  & 12\\\\\n",
       "\t 15 & 4  & 78\\\\\n",
       "\t 16 & 4  & 65\\\\\n",
       "\t 17 & 5  & 98\\\\\n",
       "\t 18 & 5  & 90\\\\\n",
       "\t 19 & 5  & 87\\\\\n",
       "\t 20 & 5  & 58\\\\\n",
       "\\end{tabular}\n"
      ],
      "text/markdown": [
       "\n",
       "id | class | science | \n",
       "|---|---|---|---|---|---|---|---|---|---|---|---|---|---|---|---|---|---|---|---|\n",
       "|  1 | 1  | 50 | \n",
       "|  2 | 1  | 60 | \n",
       "|  3 | 1  | 78 | \n",
       "|  4 | 1  | 58 | \n",
       "|  5 | 2  | 65 | \n",
       "|  6 | 2  | 98 | \n",
       "|  7 | 2  | 45 | \n",
       "|  8 | 2  | 25 | \n",
       "|  9 | 3  | 15 | \n",
       "| 10 | 3  | 45 | \n",
       "| 11 | 3  | 65 | \n",
       "| 12 | 3  | 32 | \n",
       "| 13 | 4  | 65 | \n",
       "| 14 | 4  | 12 | \n",
       "| 15 | 4  | 78 | \n",
       "| 16 | 4  | 65 | \n",
       "| 17 | 5  | 98 | \n",
       "| 18 | 5  | 90 | \n",
       "| 19 | 5  | 87 | \n",
       "| 20 | 5  | 58 | \n",
       "\n",
       "\n"
      ],
      "text/plain": [
       "   id class science\n",
       "1   1 1     50     \n",
       "2   2 1     60     \n",
       "3   3 1     78     \n",
       "4   4 1     58     \n",
       "5   5 2     65     \n",
       "6   6 2     98     \n",
       "7   7 2     45     \n",
       "8   8 2     25     \n",
       "9   9 3     15     \n",
       "10 10 3     45     \n",
       "11 11 3     65     \n",
       "12 12 3     32     \n",
       "13 13 4     65     \n",
       "14 14 4     12     \n",
       "15 15 4     78     \n",
       "16 16 4     65     \n",
       "17 17 5     98     \n",
       "18 18 5     90     \n",
       "19 19 5     87     \n",
       "20 20 5     58     "
      ]
     },
     "metadata": {},
     "output_type": "display_data"
    }
   ],
   "source": [
    "exam %>% select(-math, -english) # math, english 제외"
   ]
  },
  {
   "cell_type": "markdown",
   "metadata": {},
   "source": [
    "### dplyr 함수 조합하기"
   ]
  },
  {
   "cell_type": "code",
   "execution_count": 164,
   "metadata": {},
   "outputs": [
    {
     "data": {
      "text/html": [
       "<table>\n",
       "<thead><tr><th scope=col>english</th></tr></thead>\n",
       "<tbody>\n",
       "\t<tr><td>98</td></tr>\n",
       "\t<tr><td>97</td></tr>\n",
       "\t<tr><td>86</td></tr>\n",
       "\t<tr><td>98</td></tr>\n",
       "</tbody>\n",
       "</table>\n"
      ],
      "text/latex": [
       "\\begin{tabular}{r|l}\n",
       " english\\\\\n",
       "\\hline\n",
       "\t 98\\\\\n",
       "\t 97\\\\\n",
       "\t 86\\\\\n",
       "\t 98\\\\\n",
       "\\end{tabular}\n"
      ],
      "text/markdown": [
       "\n",
       "english | \n",
       "|---|---|---|---|\n",
       "| 98 | \n",
       "| 97 | \n",
       "| 86 | \n",
       "| 98 | \n",
       "\n",
       "\n"
      ],
      "text/plain": [
       "  english\n",
       "1 98     \n",
       "2 97     \n",
       "3 86     \n",
       "4 98     "
      ]
     },
     "metadata": {},
     "output_type": "display_data"
    }
   ],
   "source": [
    "# class 가 1 인 행만 추출한 다음 english 추출\n",
    "exam %>% filter(class == 1) %>% select(english)"
   ]
  },
  {
   "cell_type": "markdown",
   "metadata": {},
   "source": [
    "### 가독성 있게 줄 바꾸기\n"
   ]
  },
  {
   "cell_type": "code",
   "execution_count": 165,
   "metadata": {},
   "outputs": [
    {
     "data": {
      "text/html": [
       "<table>\n",
       "<thead><tr><th scope=col>english</th></tr></thead>\n",
       "<tbody>\n",
       "\t<tr><td>98</td></tr>\n",
       "\t<tr><td>97</td></tr>\n",
       "\t<tr><td>86</td></tr>\n",
       "\t<tr><td>98</td></tr>\n",
       "</tbody>\n",
       "</table>\n"
      ],
      "text/latex": [
       "\\begin{tabular}{r|l}\n",
       " english\\\\\n",
       "\\hline\n",
       "\t 98\\\\\n",
       "\t 97\\\\\n",
       "\t 86\\\\\n",
       "\t 98\\\\\n",
       "\\end{tabular}\n"
      ],
      "text/markdown": [
       "\n",
       "english | \n",
       "|---|---|---|---|\n",
       "| 98 | \n",
       "| 97 | \n",
       "| 86 | \n",
       "| 98 | \n",
       "\n",
       "\n"
      ],
      "text/plain": [
       "  english\n",
       "1 98     \n",
       "2 97     \n",
       "3 86     \n",
       "4 98     "
      ]
     },
     "metadata": {},
     "output_type": "display_data"
    }
   ],
   "source": [
    "exam %>%\n",
    " filter(class == 1) %>% # class 가 1 인 행 추출\n",
    " select(english) # english 추출"
   ]
  },
  {
   "cell_type": "markdown",
   "metadata": {},
   "source": [
    "### 일부만 출력하기\n"
   ]
  },
  {
   "cell_type": "code",
   "execution_count": 166,
   "metadata": {},
   "outputs": [
    {
     "data": {
      "text/html": [
       "<table>\n",
       "<thead><tr><th scope=col>id</th><th scope=col>math</th></tr></thead>\n",
       "<tbody>\n",
       "\t<tr><td>1 </td><td>50</td></tr>\n",
       "\t<tr><td>2 </td><td>60</td></tr>\n",
       "\t<tr><td>3 </td><td>45</td></tr>\n",
       "\t<tr><td>4 </td><td>30</td></tr>\n",
       "\t<tr><td>5 </td><td>25</td></tr>\n",
       "\t<tr><td>6 </td><td>50</td></tr>\n",
       "</tbody>\n",
       "</table>\n"
      ],
      "text/latex": [
       "\\begin{tabular}{r|ll}\n",
       " id & math\\\\\n",
       "\\hline\n",
       "\t 1  & 50\\\\\n",
       "\t 2  & 60\\\\\n",
       "\t 3  & 45\\\\\n",
       "\t 4  & 30\\\\\n",
       "\t 5  & 25\\\\\n",
       "\t 6  & 50\\\\\n",
       "\\end{tabular}\n"
      ],
      "text/markdown": [
       "\n",
       "id | math | \n",
       "|---|---|---|---|---|---|\n",
       "| 1  | 50 | \n",
       "| 2  | 60 | \n",
       "| 3  | 45 | \n",
       "| 4  | 30 | \n",
       "| 5  | 25 | \n",
       "| 6  | 50 | \n",
       "\n",
       "\n"
      ],
      "text/plain": [
       "  id math\n",
       "1 1  50  \n",
       "2 2  60  \n",
       "3 3  45  \n",
       "4 4  30  \n",
       "5 5  25  \n",
       "6 6  50  "
      ]
     },
     "metadata": {},
     "output_type": "display_data"
    }
   ],
   "source": [
    "exam %>%\n",
    " select(id, math) %>% # id, math 추출\n",
    " head # 앞부분 6 행까지 추출"
   ]
  },
  {
   "cell_type": "code",
   "execution_count": 167,
   "metadata": {},
   "outputs": [
    {
     "data": {
      "text/html": [
       "<table>\n",
       "<thead><tr><th scope=col>id</th><th scope=col>math</th></tr></thead>\n",
       "<tbody>\n",
       "\t<tr><td> 1</td><td>50</td></tr>\n",
       "\t<tr><td> 2</td><td>60</td></tr>\n",
       "\t<tr><td> 3</td><td>45</td></tr>\n",
       "\t<tr><td> 4</td><td>30</td></tr>\n",
       "\t<tr><td> 5</td><td>25</td></tr>\n",
       "\t<tr><td> 6</td><td>50</td></tr>\n",
       "\t<tr><td> 7</td><td>80</td></tr>\n",
       "\t<tr><td> 8</td><td>90</td></tr>\n",
       "\t<tr><td> 9</td><td>20</td></tr>\n",
       "\t<tr><td>10</td><td>50</td></tr>\n",
       "</tbody>\n",
       "</table>\n"
      ],
      "text/latex": [
       "\\begin{tabular}{r|ll}\n",
       " id & math\\\\\n",
       "\\hline\n",
       "\t  1 & 50\\\\\n",
       "\t  2 & 60\\\\\n",
       "\t  3 & 45\\\\\n",
       "\t  4 & 30\\\\\n",
       "\t  5 & 25\\\\\n",
       "\t  6 & 50\\\\\n",
       "\t  7 & 80\\\\\n",
       "\t  8 & 90\\\\\n",
       "\t  9 & 20\\\\\n",
       "\t 10 & 50\\\\\n",
       "\\end{tabular}\n"
      ],
      "text/markdown": [
       "\n",
       "id | math | \n",
       "|---|---|---|---|---|---|---|---|---|---|\n",
       "|  1 | 50 | \n",
       "|  2 | 60 | \n",
       "|  3 | 45 | \n",
       "|  4 | 30 | \n",
       "|  5 | 25 | \n",
       "|  6 | 50 | \n",
       "|  7 | 80 | \n",
       "|  8 | 90 | \n",
       "|  9 | 20 | \n",
       "| 10 | 50 | \n",
       "\n",
       "\n"
      ],
      "text/plain": [
       "   id math\n",
       "1   1 50  \n",
       "2   2 60  \n",
       "3   3 45  \n",
       "4   4 30  \n",
       "5   5 25  \n",
       "6   6 50  \n",
       "7   7 80  \n",
       "8   8 90  \n",
       "9   9 20  \n",
       "10 10 50  "
      ]
     },
     "metadata": {},
     "output_type": "display_data"
    }
   ],
   "source": [
    "exam %>%\n",
    " select(id, math) %>% # id, math 추출\n",
    " head(10) # 앞부분 10 행까지 추출"
   ]
  },
  {
   "cell_type": "markdown",
   "metadata": {},
   "source": [
    "### 혼자서 해보기\n",
    "mpg 데이터를 이용해서 분석 문제를 해결해보세요."
   ]
  },
  {
   "cell_type": "markdown",
   "metadata": {},
   "source": [
    "Q1. mpg 데이터는 11 개 변수로 구성되어 있습니다. 이 중 일부만 추출해서 분석에 활용하려고 합니다. mpg\n",
    "데이터에서 class(자동차 종류), cty(도시 연비) 변수를 추출해 새로운 데이터를 만드세요. 새로 만든\n",
    "데이터의 일부를 출력해서 두 변수로만 구성되어 있는지 확인하세요."
   ]
  },
  {
   "cell_type": "code",
   "execution_count": 169,
   "metadata": {},
   "outputs": [],
   "source": [
    "mpg <- as.data.frame(ggplot2::mpg)"
   ]
  },
  {
   "cell_type": "code",
   "execution_count": 170,
   "metadata": {},
   "outputs": [
    {
     "data": {
      "text/html": [
       "<table>\n",
       "<thead><tr><th scope=col>class</th><th scope=col>cty</th></tr></thead>\n",
       "<tbody>\n",
       "\t<tr><td>compact</td><td>18     </td></tr>\n",
       "\t<tr><td>compact</td><td>21     </td></tr>\n",
       "\t<tr><td>compact</td><td>20     </td></tr>\n",
       "\t<tr><td>compact</td><td>21     </td></tr>\n",
       "\t<tr><td>compact</td><td>16     </td></tr>\n",
       "\t<tr><td>compact</td><td>18     </td></tr>\n",
       "</tbody>\n",
       "</table>\n"
      ],
      "text/latex": [
       "\\begin{tabular}{r|ll}\n",
       " class & cty\\\\\n",
       "\\hline\n",
       "\t compact & 18     \\\\\n",
       "\t compact & 21     \\\\\n",
       "\t compact & 20     \\\\\n",
       "\t compact & 21     \\\\\n",
       "\t compact & 16     \\\\\n",
       "\t compact & 18     \\\\\n",
       "\\end{tabular}\n"
      ],
      "text/markdown": [
       "\n",
       "class | cty | \n",
       "|---|---|---|---|---|---|\n",
       "| compact | 18      | \n",
       "| compact | 21      | \n",
       "| compact | 20      | \n",
       "| compact | 21      | \n",
       "| compact | 16      | \n",
       "| compact | 18      | \n",
       "\n",
       "\n"
      ],
      "text/plain": [
       "  class   cty\n",
       "1 compact 18 \n",
       "2 compact 21 \n",
       "3 compact 20 \n",
       "4 compact 21 \n",
       "5 compact 16 \n",
       "6 compact 18 "
      ]
     },
     "metadata": {},
     "output_type": "display_data"
    }
   ],
   "source": [
    "df <- mpg %>% select(class, cty)\n",
    "head(df) "
   ]
  },
  {
   "cell_type": "markdown",
   "metadata": {},
   "source": [
    "Q2. 자동차 종류에 따라 도시 연비가 다른지 알아보려고 합니다. 앞에서 추출한 데이터를 이용해서\n",
    "class(자동차 종류)가 \"suv\"인 자동차와 \"compact\"인 자동차 중 어떤 자동차의 cty(도시 연비)가 더 높은지\n",
    "알아보세요.\n"
   ]
  },
  {
   "cell_type": "code",
   "execution_count": 171,
   "metadata": {},
   "outputs": [],
   "source": [
    "df_suv <- df %>% filter(class == \"suv\")\n",
    "df_compact <- df %>% filter(class == \"compact\")"
   ]
  },
  {
   "cell_type": "code",
   "execution_count": 172,
   "metadata": {},
   "outputs": [
    {
     "data": {
      "text/html": [
       "13.5"
      ],
      "text/latex": [
       "13.5"
      ],
      "text/markdown": [
       "13.5"
      ],
      "text/plain": [
       "[1] 13.5"
      ]
     },
     "metadata": {},
     "output_type": "display_data"
    }
   ],
   "source": [
    "mean(df_suv$cty) "
   ]
  },
  {
   "cell_type": "code",
   "execution_count": 173,
   "metadata": {},
   "outputs": [
    {
     "data": {
      "text/html": [
       "20.1276595744681"
      ],
      "text/latex": [
       "20.1276595744681"
      ],
      "text/markdown": [
       "20.1276595744681"
      ],
      "text/plain": [
       "[1] 20.12766"
      ]
     },
     "metadata": {},
     "output_type": "display_data"
    }
   ],
   "source": [
    "mean(df_compact$cty) "
   ]
  },
  {
   "cell_type": "markdown",
   "metadata": {},
   "source": [
    "## 06-4. 순서대로 정렬하기"
   ]
  },
  {
   "cell_type": "markdown",
   "metadata": {},
   "source": [
    "![ex_screenshot1](./img/13.PNG)"
   ]
  },
  {
   "cell_type": "markdown",
   "metadata": {},
   "source": [
    "### 오름차순으로 정렬하기"
   ]
  },
  {
   "cell_type": "code",
   "execution_count": 175,
   "metadata": {},
   "outputs": [
    {
     "data": {
      "text/html": [
       "<table>\n",
       "<thead><tr><th scope=col>id</th><th scope=col>class</th><th scope=col>math</th><th scope=col>english</th><th scope=col>science</th></tr></thead>\n",
       "<tbody>\n",
       "\t<tr><td> 9</td><td>3 </td><td>20</td><td>98</td><td>15</td></tr>\n",
       "\t<tr><td> 5</td><td>2 </td><td>25</td><td>80</td><td>65</td></tr>\n",
       "\t<tr><td> 4</td><td>1 </td><td>30</td><td>98</td><td>58</td></tr>\n",
       "\t<tr><td> 3</td><td>1 </td><td>45</td><td>86</td><td>78</td></tr>\n",
       "\t<tr><td>12</td><td>3 </td><td>45</td><td>85</td><td>32</td></tr>\n",
       "\t<tr><td>13</td><td>4 </td><td>46</td><td>98</td><td>65</td></tr>\n",
       "\t<tr><td>14</td><td>4 </td><td>48</td><td>87</td><td>12</td></tr>\n",
       "\t<tr><td> 1</td><td>1 </td><td>50</td><td>98</td><td>50</td></tr>\n",
       "\t<tr><td> 6</td><td>2 </td><td>50</td><td>89</td><td>98</td></tr>\n",
       "\t<tr><td>10</td><td>3 </td><td>50</td><td>98</td><td>45</td></tr>\n",
       "\t<tr><td>16</td><td>4 </td><td>58</td><td>98</td><td>65</td></tr>\n",
       "\t<tr><td> 2</td><td>1 </td><td>60</td><td>97</td><td>60</td></tr>\n",
       "\t<tr><td>11</td><td>3 </td><td>65</td><td>65</td><td>65</td></tr>\n",
       "\t<tr><td>17</td><td>5 </td><td>65</td><td>68</td><td>98</td></tr>\n",
       "\t<tr><td>15</td><td>4 </td><td>75</td><td>56</td><td>78</td></tr>\n",
       "\t<tr><td>20</td><td>5 </td><td>78</td><td>83</td><td>58</td></tr>\n",
       "\t<tr><td> 7</td><td>2 </td><td>80</td><td>90</td><td>45</td></tr>\n",
       "\t<tr><td>18</td><td>5 </td><td>80</td><td>78</td><td>90</td></tr>\n",
       "\t<tr><td>19</td><td>5 </td><td>89</td><td>68</td><td>87</td></tr>\n",
       "\t<tr><td> 8</td><td>2 </td><td>90</td><td>78</td><td>25</td></tr>\n",
       "</tbody>\n",
       "</table>\n"
      ],
      "text/latex": [
       "\\begin{tabular}{r|lllll}\n",
       " id & class & math & english & science\\\\\n",
       "\\hline\n",
       "\t  9 & 3  & 20 & 98 & 15\\\\\n",
       "\t  5 & 2  & 25 & 80 & 65\\\\\n",
       "\t  4 & 1  & 30 & 98 & 58\\\\\n",
       "\t  3 & 1  & 45 & 86 & 78\\\\\n",
       "\t 12 & 3  & 45 & 85 & 32\\\\\n",
       "\t 13 & 4  & 46 & 98 & 65\\\\\n",
       "\t 14 & 4  & 48 & 87 & 12\\\\\n",
       "\t  1 & 1  & 50 & 98 & 50\\\\\n",
       "\t  6 & 2  & 50 & 89 & 98\\\\\n",
       "\t 10 & 3  & 50 & 98 & 45\\\\\n",
       "\t 16 & 4  & 58 & 98 & 65\\\\\n",
       "\t  2 & 1  & 60 & 97 & 60\\\\\n",
       "\t 11 & 3  & 65 & 65 & 65\\\\\n",
       "\t 17 & 5  & 65 & 68 & 98\\\\\n",
       "\t 15 & 4  & 75 & 56 & 78\\\\\n",
       "\t 20 & 5  & 78 & 83 & 58\\\\\n",
       "\t  7 & 2  & 80 & 90 & 45\\\\\n",
       "\t 18 & 5  & 80 & 78 & 90\\\\\n",
       "\t 19 & 5  & 89 & 68 & 87\\\\\n",
       "\t  8 & 2  & 90 & 78 & 25\\\\\n",
       "\\end{tabular}\n"
      ],
      "text/markdown": [
       "\n",
       "id | class | math | english | science | \n",
       "|---|---|---|---|---|---|---|---|---|---|---|---|---|---|---|---|---|---|---|---|\n",
       "|  9 | 3  | 20 | 98 | 15 | \n",
       "|  5 | 2  | 25 | 80 | 65 | \n",
       "|  4 | 1  | 30 | 98 | 58 | \n",
       "|  3 | 1  | 45 | 86 | 78 | \n",
       "| 12 | 3  | 45 | 85 | 32 | \n",
       "| 13 | 4  | 46 | 98 | 65 | \n",
       "| 14 | 4  | 48 | 87 | 12 | \n",
       "|  1 | 1  | 50 | 98 | 50 | \n",
       "|  6 | 2  | 50 | 89 | 98 | \n",
       "| 10 | 3  | 50 | 98 | 45 | \n",
       "| 16 | 4  | 58 | 98 | 65 | \n",
       "|  2 | 1  | 60 | 97 | 60 | \n",
       "| 11 | 3  | 65 | 65 | 65 | \n",
       "| 17 | 5  | 65 | 68 | 98 | \n",
       "| 15 | 4  | 75 | 56 | 78 | \n",
       "| 20 | 5  | 78 | 83 | 58 | \n",
       "|  7 | 2  | 80 | 90 | 45 | \n",
       "| 18 | 5  | 80 | 78 | 90 | \n",
       "| 19 | 5  | 89 | 68 | 87 | \n",
       "|  8 | 2  | 90 | 78 | 25 | \n",
       "\n",
       "\n"
      ],
      "text/plain": [
       "   id class math english science\n",
       "1   9 3     20   98      15     \n",
       "2   5 2     25   80      65     \n",
       "3   4 1     30   98      58     \n",
       "4   3 1     45   86      78     \n",
       "5  12 3     45   85      32     \n",
       "6  13 4     46   98      65     \n",
       "7  14 4     48   87      12     \n",
       "8   1 1     50   98      50     \n",
       "9   6 2     50   89      98     \n",
       "10 10 3     50   98      45     \n",
       "11 16 4     58   98      65     \n",
       "12  2 1     60   97      60     \n",
       "13 11 3     65   65      65     \n",
       "14 17 5     65   68      98     \n",
       "15 15 4     75   56      78     \n",
       "16 20 5     78   83      58     \n",
       "17  7 2     80   90      45     \n",
       "18 18 5     80   78      90     \n",
       "19 19 5     89   68      87     \n",
       "20  8 2     90   78      25     "
      ]
     },
     "metadata": {},
     "output_type": "display_data"
    }
   ],
   "source": [
    "exam %>% arrange(math) # math 오름차순 정렬"
   ]
  },
  {
   "cell_type": "markdown",
   "metadata": {},
   "source": [
    "### 내림차순으로 정렬하기"
   ]
  },
  {
   "cell_type": "code",
   "execution_count": 177,
   "metadata": {},
   "outputs": [
    {
     "data": {
      "text/html": [
       "<table>\n",
       "<thead><tr><th scope=col>id</th><th scope=col>class</th><th scope=col>math</th><th scope=col>english</th><th scope=col>science</th></tr></thead>\n",
       "<tbody>\n",
       "\t<tr><td> 8</td><td>2 </td><td>90</td><td>78</td><td>25</td></tr>\n",
       "\t<tr><td>19</td><td>5 </td><td>89</td><td>68</td><td>87</td></tr>\n",
       "\t<tr><td> 7</td><td>2 </td><td>80</td><td>90</td><td>45</td></tr>\n",
       "\t<tr><td>18</td><td>5 </td><td>80</td><td>78</td><td>90</td></tr>\n",
       "\t<tr><td>20</td><td>5 </td><td>78</td><td>83</td><td>58</td></tr>\n",
       "\t<tr><td>15</td><td>4 </td><td>75</td><td>56</td><td>78</td></tr>\n",
       "\t<tr><td>11</td><td>3 </td><td>65</td><td>65</td><td>65</td></tr>\n",
       "\t<tr><td>17</td><td>5 </td><td>65</td><td>68</td><td>98</td></tr>\n",
       "\t<tr><td> 2</td><td>1 </td><td>60</td><td>97</td><td>60</td></tr>\n",
       "\t<tr><td>16</td><td>4 </td><td>58</td><td>98</td><td>65</td></tr>\n",
       "\t<tr><td> 1</td><td>1 </td><td>50</td><td>98</td><td>50</td></tr>\n",
       "\t<tr><td> 6</td><td>2 </td><td>50</td><td>89</td><td>98</td></tr>\n",
       "\t<tr><td>10</td><td>3 </td><td>50</td><td>98</td><td>45</td></tr>\n",
       "\t<tr><td>14</td><td>4 </td><td>48</td><td>87</td><td>12</td></tr>\n",
       "\t<tr><td>13</td><td>4 </td><td>46</td><td>98</td><td>65</td></tr>\n",
       "\t<tr><td> 3</td><td>1 </td><td>45</td><td>86</td><td>78</td></tr>\n",
       "\t<tr><td>12</td><td>3 </td><td>45</td><td>85</td><td>32</td></tr>\n",
       "\t<tr><td> 4</td><td>1 </td><td>30</td><td>98</td><td>58</td></tr>\n",
       "\t<tr><td> 5</td><td>2 </td><td>25</td><td>80</td><td>65</td></tr>\n",
       "\t<tr><td> 9</td><td>3 </td><td>20</td><td>98</td><td>15</td></tr>\n",
       "</tbody>\n",
       "</table>\n"
      ],
      "text/latex": [
       "\\begin{tabular}{r|lllll}\n",
       " id & class & math & english & science\\\\\n",
       "\\hline\n",
       "\t  8 & 2  & 90 & 78 & 25\\\\\n",
       "\t 19 & 5  & 89 & 68 & 87\\\\\n",
       "\t  7 & 2  & 80 & 90 & 45\\\\\n",
       "\t 18 & 5  & 80 & 78 & 90\\\\\n",
       "\t 20 & 5  & 78 & 83 & 58\\\\\n",
       "\t 15 & 4  & 75 & 56 & 78\\\\\n",
       "\t 11 & 3  & 65 & 65 & 65\\\\\n",
       "\t 17 & 5  & 65 & 68 & 98\\\\\n",
       "\t  2 & 1  & 60 & 97 & 60\\\\\n",
       "\t 16 & 4  & 58 & 98 & 65\\\\\n",
       "\t  1 & 1  & 50 & 98 & 50\\\\\n",
       "\t  6 & 2  & 50 & 89 & 98\\\\\n",
       "\t 10 & 3  & 50 & 98 & 45\\\\\n",
       "\t 14 & 4  & 48 & 87 & 12\\\\\n",
       "\t 13 & 4  & 46 & 98 & 65\\\\\n",
       "\t  3 & 1  & 45 & 86 & 78\\\\\n",
       "\t 12 & 3  & 45 & 85 & 32\\\\\n",
       "\t  4 & 1  & 30 & 98 & 58\\\\\n",
       "\t  5 & 2  & 25 & 80 & 65\\\\\n",
       "\t  9 & 3  & 20 & 98 & 15\\\\\n",
       "\\end{tabular}\n"
      ],
      "text/markdown": [
       "\n",
       "id | class | math | english | science | \n",
       "|---|---|---|---|---|---|---|---|---|---|---|---|---|---|---|---|---|---|---|---|\n",
       "|  8 | 2  | 90 | 78 | 25 | \n",
       "| 19 | 5  | 89 | 68 | 87 | \n",
       "|  7 | 2  | 80 | 90 | 45 | \n",
       "| 18 | 5  | 80 | 78 | 90 | \n",
       "| 20 | 5  | 78 | 83 | 58 | \n",
       "| 15 | 4  | 75 | 56 | 78 | \n",
       "| 11 | 3  | 65 | 65 | 65 | \n",
       "| 17 | 5  | 65 | 68 | 98 | \n",
       "|  2 | 1  | 60 | 97 | 60 | \n",
       "| 16 | 4  | 58 | 98 | 65 | \n",
       "|  1 | 1  | 50 | 98 | 50 | \n",
       "|  6 | 2  | 50 | 89 | 98 | \n",
       "| 10 | 3  | 50 | 98 | 45 | \n",
       "| 14 | 4  | 48 | 87 | 12 | \n",
       "| 13 | 4  | 46 | 98 | 65 | \n",
       "|  3 | 1  | 45 | 86 | 78 | \n",
       "| 12 | 3  | 45 | 85 | 32 | \n",
       "|  4 | 1  | 30 | 98 | 58 | \n",
       "|  5 | 2  | 25 | 80 | 65 | \n",
       "|  9 | 3  | 20 | 98 | 15 | \n",
       "\n",
       "\n"
      ],
      "text/plain": [
       "   id class math english science\n",
       "1   8 2     90   78      25     \n",
       "2  19 5     89   68      87     \n",
       "3   7 2     80   90      45     \n",
       "4  18 5     80   78      90     \n",
       "5  20 5     78   83      58     \n",
       "6  15 4     75   56      78     \n",
       "7  11 3     65   65      65     \n",
       "8  17 5     65   68      98     \n",
       "9   2 1     60   97      60     \n",
       "10 16 4     58   98      65     \n",
       "11  1 1     50   98      50     \n",
       "12  6 2     50   89      98     \n",
       "13 10 3     50   98      45     \n",
       "14 14 4     48   87      12     \n",
       "15 13 4     46   98      65     \n",
       "16  3 1     45   86      78     \n",
       "17 12 3     45   85      32     \n",
       "18  4 1     30   98      58     \n",
       "19  5 2     25   80      65     \n",
       "20  9 3     20   98      15     "
      ]
     },
     "metadata": {},
     "output_type": "display_data"
    }
   ],
   "source": [
    "exam %>% arrange(desc(math)) # math 내림차순 정렬"
   ]
  },
  {
   "cell_type": "markdown",
   "metadata": {},
   "source": [
    "#### 정렬 기준 변수 여러개 지정"
   ]
  },
  {
   "cell_type": "code",
   "execution_count": 182,
   "metadata": {},
   "outputs": [
    {
     "data": {
      "text/html": [
       "<table>\n",
       "<thead><tr><th scope=col>id</th><th scope=col>class</th><th scope=col>math</th><th scope=col>english</th><th scope=col>science</th></tr></thead>\n",
       "<tbody>\n",
       "\t<tr><td> 4</td><td>1 </td><td>30</td><td>98</td><td>58</td></tr>\n",
       "\t<tr><td> 3</td><td>1 </td><td>45</td><td>86</td><td>78</td></tr>\n",
       "\t<tr><td> 1</td><td>1 </td><td>50</td><td>98</td><td>50</td></tr>\n",
       "\t<tr><td> 2</td><td>1 </td><td>60</td><td>97</td><td>60</td></tr>\n",
       "\t<tr><td> 5</td><td>2 </td><td>25</td><td>80</td><td>65</td></tr>\n",
       "\t<tr><td> 6</td><td>2 </td><td>50</td><td>89</td><td>98</td></tr>\n",
       "\t<tr><td> 7</td><td>2 </td><td>80</td><td>90</td><td>45</td></tr>\n",
       "\t<tr><td> 8</td><td>2 </td><td>90</td><td>78</td><td>25</td></tr>\n",
       "\t<tr><td> 9</td><td>3 </td><td>20</td><td>98</td><td>15</td></tr>\n",
       "\t<tr><td>12</td><td>3 </td><td>45</td><td>85</td><td>32</td></tr>\n",
       "\t<tr><td>10</td><td>3 </td><td>50</td><td>98</td><td>45</td></tr>\n",
       "\t<tr><td>11</td><td>3 </td><td>65</td><td>65</td><td>65</td></tr>\n",
       "\t<tr><td>13</td><td>4 </td><td>46</td><td>98</td><td>65</td></tr>\n",
       "\t<tr><td>14</td><td>4 </td><td>48</td><td>87</td><td>12</td></tr>\n",
       "\t<tr><td>16</td><td>4 </td><td>58</td><td>98</td><td>65</td></tr>\n",
       "\t<tr><td>15</td><td>4 </td><td>75</td><td>56</td><td>78</td></tr>\n",
       "\t<tr><td>17</td><td>5 </td><td>65</td><td>68</td><td>98</td></tr>\n",
       "\t<tr><td>20</td><td>5 </td><td>78</td><td>83</td><td>58</td></tr>\n",
       "\t<tr><td>18</td><td>5 </td><td>80</td><td>78</td><td>90</td></tr>\n",
       "\t<tr><td>19</td><td>5 </td><td>89</td><td>68</td><td>87</td></tr>\n",
       "</tbody>\n",
       "</table>\n"
      ],
      "text/latex": [
       "\\begin{tabular}{r|lllll}\n",
       " id & class & math & english & science\\\\\n",
       "\\hline\n",
       "\t  4 & 1  & 30 & 98 & 58\\\\\n",
       "\t  3 & 1  & 45 & 86 & 78\\\\\n",
       "\t  1 & 1  & 50 & 98 & 50\\\\\n",
       "\t  2 & 1  & 60 & 97 & 60\\\\\n",
       "\t  5 & 2  & 25 & 80 & 65\\\\\n",
       "\t  6 & 2  & 50 & 89 & 98\\\\\n",
       "\t  7 & 2  & 80 & 90 & 45\\\\\n",
       "\t  8 & 2  & 90 & 78 & 25\\\\\n",
       "\t  9 & 3  & 20 & 98 & 15\\\\\n",
       "\t 12 & 3  & 45 & 85 & 32\\\\\n",
       "\t 10 & 3  & 50 & 98 & 45\\\\\n",
       "\t 11 & 3  & 65 & 65 & 65\\\\\n",
       "\t 13 & 4  & 46 & 98 & 65\\\\\n",
       "\t 14 & 4  & 48 & 87 & 12\\\\\n",
       "\t 16 & 4  & 58 & 98 & 65\\\\\n",
       "\t 15 & 4  & 75 & 56 & 78\\\\\n",
       "\t 17 & 5  & 65 & 68 & 98\\\\\n",
       "\t 20 & 5  & 78 & 83 & 58\\\\\n",
       "\t 18 & 5  & 80 & 78 & 90\\\\\n",
       "\t 19 & 5  & 89 & 68 & 87\\\\\n",
       "\\end{tabular}\n"
      ],
      "text/markdown": [
       "\n",
       "id | class | math | english | science | \n",
       "|---|---|---|---|---|---|---|---|---|---|---|---|---|---|---|---|---|---|---|---|\n",
       "|  4 | 1  | 30 | 98 | 58 | \n",
       "|  3 | 1  | 45 | 86 | 78 | \n",
       "|  1 | 1  | 50 | 98 | 50 | \n",
       "|  2 | 1  | 60 | 97 | 60 | \n",
       "|  5 | 2  | 25 | 80 | 65 | \n",
       "|  6 | 2  | 50 | 89 | 98 | \n",
       "|  7 | 2  | 80 | 90 | 45 | \n",
       "|  8 | 2  | 90 | 78 | 25 | \n",
       "|  9 | 3  | 20 | 98 | 15 | \n",
       "| 12 | 3  | 45 | 85 | 32 | \n",
       "| 10 | 3  | 50 | 98 | 45 | \n",
       "| 11 | 3  | 65 | 65 | 65 | \n",
       "| 13 | 4  | 46 | 98 | 65 | \n",
       "| 14 | 4  | 48 | 87 | 12 | \n",
       "| 16 | 4  | 58 | 98 | 65 | \n",
       "| 15 | 4  | 75 | 56 | 78 | \n",
       "| 17 | 5  | 65 | 68 | 98 | \n",
       "| 20 | 5  | 78 | 83 | 58 | \n",
       "| 18 | 5  | 80 | 78 | 90 | \n",
       "| 19 | 5  | 89 | 68 | 87 | \n",
       "\n",
       "\n"
      ],
      "text/plain": [
       "   id class math english science\n",
       "1   4 1     30   98      58     \n",
       "2   3 1     45   86      78     \n",
       "3   1 1     50   98      50     \n",
       "4   2 1     60   97      60     \n",
       "5   5 2     25   80      65     \n",
       "6   6 2     50   89      98     \n",
       "7   7 2     80   90      45     \n",
       "8   8 2     90   78      25     \n",
       "9   9 3     20   98      15     \n",
       "10 12 3     45   85      32     \n",
       "11 10 3     50   98      45     \n",
       "12 11 3     65   65      65     \n",
       "13 13 4     46   98      65     \n",
       "14 14 4     48   87      12     \n",
       "15 16 4     58   98      65     \n",
       "16 15 4     75   56      78     \n",
       "17 17 5     65   68      98     \n",
       "18 20 5     78   83      58     \n",
       "19 18 5     80   78      90     \n",
       "20 19 5     89   68      87     "
      ]
     },
     "metadata": {},
     "output_type": "display_data"
    }
   ],
   "source": [
    "exam %>% arrange(class, math) # class 및 math 오름차순 정렬"
   ]
  },
  {
   "cell_type": "markdown",
   "metadata": {},
   "source": [
    "### 혼자서 해보기\n",
    "mpg 데이터를 이용해서 분석 문제를 해결해보세요.\n"
   ]
  },
  {
   "cell_type": "code",
   "execution_count": 184,
   "metadata": {},
   "outputs": [],
   "source": [
    "mpg <- as.data.frame(ggplot2::mpg) "
   ]
  },
  {
   "cell_type": "code",
   "execution_count": 185,
   "metadata": {},
   "outputs": [
    {
     "data": {
      "text/html": [
       "<table>\n",
       "<thead><tr><th scope=col>manufacturer</th><th scope=col>model</th><th scope=col>displ</th><th scope=col>year</th><th scope=col>cyl</th><th scope=col>trans</th><th scope=col>drv</th><th scope=col>cty</th><th scope=col>hwy</th><th scope=col>fl</th><th scope=col>class</th></tr></thead>\n",
       "<tbody>\n",
       "\t<tr><td>audi      </td><td>a4        </td><td>2.0       </td><td>2008      </td><td>4         </td><td>manual(m6)</td><td>f         </td><td>20        </td><td>31        </td><td>p         </td><td>compact   </td></tr>\n",
       "\t<tr><td>audi      </td><td>a4        </td><td>2.0       </td><td>2008      </td><td>4         </td><td>auto(av)  </td><td>f         </td><td>21        </td><td>30        </td><td>p         </td><td>compact   </td></tr>\n",
       "\t<tr><td>audi      </td><td>a4        </td><td>1.8       </td><td>1999      </td><td>4         </td><td>auto(l5)  </td><td>f         </td><td>18        </td><td>29        </td><td>p         </td><td>compact   </td></tr>\n",
       "\t<tr><td>audi      </td><td>a4        </td><td>1.8       </td><td>1999      </td><td>4         </td><td>manual(m5)</td><td>f         </td><td>21        </td><td>29        </td><td>p         </td><td>compact   </td></tr>\n",
       "\t<tr><td>audi      </td><td>a4 quattro</td><td>2.0       </td><td>2008      </td><td>4         </td><td>manual(m6)</td><td>4         </td><td>20        </td><td>28        </td><td>p         </td><td>compact   </td></tr>\n",
       "</tbody>\n",
       "</table>\n"
      ],
      "text/latex": [
       "\\begin{tabular}{r|lllllllllll}\n",
       " manufacturer & model & displ & year & cyl & trans & drv & cty & hwy & fl & class\\\\\n",
       "\\hline\n",
       "\t audi       & a4         & 2.0        & 2008       & 4          & manual(m6) & f          & 20         & 31         & p          & compact   \\\\\n",
       "\t audi       & a4         & 2.0        & 2008       & 4          & auto(av)   & f          & 21         & 30         & p          & compact   \\\\\n",
       "\t audi       & a4         & 1.8        & 1999       & 4          & auto(l5)   & f          & 18         & 29         & p          & compact   \\\\\n",
       "\t audi       & a4         & 1.8        & 1999       & 4          & manual(m5) & f          & 21         & 29         & p          & compact   \\\\\n",
       "\t audi       & a4 quattro & 2.0        & 2008       & 4          & manual(m6) & 4          & 20         & 28         & p          & compact   \\\\\n",
       "\\end{tabular}\n"
      ],
      "text/markdown": [
       "\n",
       "manufacturer | model | displ | year | cyl | trans | drv | cty | hwy | fl | class | \n",
       "|---|---|---|---|---|\n",
       "| audi       | a4         | 2.0        | 2008       | 4          | manual(m6) | f          | 20         | 31         | p          | compact    | \n",
       "| audi       | a4         | 2.0        | 2008       | 4          | auto(av)   | f          | 21         | 30         | p          | compact    | \n",
       "| audi       | a4         | 1.8        | 1999       | 4          | auto(l5)   | f          | 18         | 29         | p          | compact    | \n",
       "| audi       | a4         | 1.8        | 1999       | 4          | manual(m5) | f          | 21         | 29         | p          | compact    | \n",
       "| audi       | a4 quattro | 2.0        | 2008       | 4          | manual(m6) | 4          | 20         | 28         | p          | compact    | \n",
       "\n",
       "\n"
      ],
      "text/plain": [
       "  manufacturer model      displ year cyl trans      drv cty hwy fl class  \n",
       "1 audi         a4         2.0   2008 4   manual(m6) f   20  31  p  compact\n",
       "2 audi         a4         2.0   2008 4   auto(av)   f   21  30  p  compact\n",
       "3 audi         a4         1.8   1999 4   auto(l5)   f   18  29  p  compact\n",
       "4 audi         a4         1.8   1999 4   manual(m5) f   21  29  p  compact\n",
       "5 audi         a4 quattro 2.0   2008 4   manual(m6) 4   20  28  p  compact"
      ]
     },
     "metadata": {},
     "output_type": "display_data"
    }
   ],
   "source": [
    "mpg %>% filter(manufacturer == \"audi\") %>% \n",
    " arrange(desc(hwy)) %>% \n",
    " head(5) "
   ]
  },
  {
   "cell_type": "code",
   "execution_count": null,
   "metadata": {},
   "outputs": [],
   "source": []
  }
 ],
 "metadata": {
  "kernelspec": {
   "display_name": "R",
   "language": "R",
   "name": "ir"
  },
  "language_info": {
   "codemirror_mode": "r",
   "file_extension": ".r",
   "mimetype": "text/x-r-source",
   "name": "R",
   "pygments_lexer": "r",
   "version": "3.5.1"
  }
 },
 "nbformat": 4,
 "nbformat_minor": 2
}
